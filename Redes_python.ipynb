{
 "cells": [
  {
   "cell_type": "markdown",
   "metadata": {
    "id": "BlGDYLWbMc6k"
   },
   "source": [
    "# Otimização em Redes"
   ]
  },
  {
   "cell_type": "markdown",
   "metadata": {
    "id": "AvYY3M8jMgRD"
   },
   "source": [
    "## Classes em Python"
   ]
  },
  {
   "cell_type": "markdown",
   "metadata": {
    "id": "QXX2pOGEMn4j"
   },
   "source": [
    "TEste github\n",
    "\n",
    "Teste 2\n",
    "\n",
    "teste 4\n",
    "\n",
    "\n",
    "As principais bibliotecas que tratam de Grafos em Python utilizam o conceito de OOP (object oriented programming). Em termos práticos, a programação é estruturada com base na criação de classes e métodos. Objetos são criados com base nas classes disponíveis. \n",
    "\n",
    "Nesse cenário, algumas fontes interessantes para estudo são:\n",
    "\n",
    "*   https://www.youtube.com/watch?v=Ej_02ICOIgs\n",
    "*   https://www.youtube.com/playlist?list=PL-osiE80TeTsqhIuOqKhwlXsIBIdSeYtc\n",
    "\n"
   ]
  },
  {
   "cell_type": "markdown",
   "metadata": {
    "id": "Sbhe4l_pMuC3"
   },
   "source": [
    "## Criando uma classe\n",
    "\n",
    "\n"
   ]
  },
  {
   "cell_type": "markdown",
   "metadata": {
    "id": "vs2AUttvSaQ4"
   },
   "source": [
    "Aqui exemplifico a criação de uma simples classe Grafo. Dentre outros motivos, isso é interessante porque diferentes grafos apresentam atributos similares (número de vértices, número de arestas, etc.) que podem, assim, ser agrupados em uma estrutura única e organizada a partir de uma classe. "
   ]
  },
  {
   "cell_type": "markdown",
   "metadata": {
    "id": "Pu6Gkp1BRAgG"
   },
   "source": [
    "BBBB\n",
    "\n",
    "Abaixo temos um exemplo de criação de duas classes: Vertice e Grafo. \n",
    "\n",
    "Os atributos estabelecidos para a criação de um grafo nesse exemplo foram:\n",
    "\n"
   ]
  },
  {
   "cell_type": "code",
   "execution_count": null,
   "metadata": {
    "id": "nQWg3WeGOIdk"
   },
   "outputs": [],
   "source": [
    "class Vertice:  \n",
    "    def __init__(self, rotulo):\n",
    "        self.__rotulo = rotulo\n",
    "        self.__visitado = False\n",
    "    \n",
    "    def busca_igual (self, r):\n",
    "        return r == self.rotulo\n",
    "    \n",
    "    def foi_visitado (self):\n",
    "        return self.visitado\n",
    "    \n",
    "    def add_visita(self):\n",
    "        self.visitado = True\n",
    "    \n",
    "    def limpa_visita(self):\n",
    "        self.visitado = False\n",
    "    \n",
    "\n",
    "class Grafo:\n",
    "    def __init__(self):\n",
    "        self.num_max_vertices = 20\n",
    "        self.num_vertices = 0\n",
    "        self.list_vertices = []\n",
    "        self.Adj_matrix = []\n",
    "        for i in range(self.num_max_vertices):\n",
    "            row= []\n",
    "            for j in range(self.num_max_vertices):\n",
    "                row.append(0)\n",
    "            self.Adj_matrix.append(row)\n",
    "    \n",
    "    def add_vertice(self, rotulo):\n",
    "        self.num_vertices += 1\n",
    "        self.list_vertices.append(Vertice(rotulo))\n",
    "    \n",
    "    def add_aresta (self, inicio, fim):\n",
    "        self.Adj_matrix[inicio][fim] = 1\n",
    "        self.Adj_matrix[fim][inicio] = 1\n",
    "        \n",
    "    def mostra_vertice (self, vertice):\n",
    "        self.Adj_matrix[vertice].rotulo\n",
    "    \n",
    "    def Prim (self, ):\n",
    "        return arvore_minima\n",
    "        "
   ]
  },
  {
   "cell_type": "code",
   "execution_count": null,
   "metadata": {
    "id": "RNnlz4OBOn3l"
   },
   "outputs": [],
   "source": []
  }
 ],
 "metadata": {
  "colab": {
   "collapsed_sections": [],
   "name": "Redes_python.ipynb",
   "provenance": []
  },
  "kernelspec": {
   "display_name": "Python 3 (ipykernel)",
   "language": "python",
   "name": "python3"
  },
  "language_info": {
   "codemirror_mode": {
    "name": "ipython",
    "version": 3
   },
   "file_extension": ".py",
   "mimetype": "text/x-python",
   "name": "python",
   "nbconvert_exporter": "python",
   "pygments_lexer": "ipython3",
   "version": "3.9.7"
  }
 },
 "nbformat": 4,
 "nbformat_minor": 4
}
