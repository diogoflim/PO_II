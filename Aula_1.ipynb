{
 "cells": [
  {
   "cell_type": "markdown",
   "metadata": {},
   "source": [
    "Universidade Federal Fluminense\n",
    "\n",
    "TEP - Departamento de Engenharia de Produção\n",
    "\n",
    "Disciplina: PESQUISA OPERACIONAL II\n",
    "\n",
    "Docente: Diogo Ferreira de Lima Silva"
   ]
  },
  {
   "cell_type": "markdown",
   "metadata": {},
   "source": [
    "# NetworkX"
   ]
  },
  {
   "cell_type": "markdown",
   "metadata": {},
   "source": [
    "NetworkX consiste em um pacote da linguagem de programação Python com foco em Grafos/Redes. \n",
    "\n",
    "- Site oficial: https://networkx.org/\n",
    "- Tutorial oficial: https://networkx.org/documentation/stable/tutorial.html \n",
    "\n",
    "Vários métodos estudados durante à disciplina de Pesquisa Operacional II."
   ]
  },
  {
   "cell_type": "markdown",
   "metadata": {},
   "source": [
    "Vamos criar nosso primeiro grafo por meio do NetworkX. Para isso, primeiramente vamos importar as bibliotecas que serão usadas. Além do pacote NetworkX, vamos importar o matplotlib para visualizarmos os grafos (https://matplotlib.org/3.5.0/api/_as_gen/matplotlib.pyplot.html).   "
   ]
  },
  {
   "cell_type": "code",
   "execution_count": 1,
   "metadata": {},
   "outputs": [],
   "source": [
    "#Importando os pacotes networkx e matplotlib.pyplot\n",
    "\n",
    "import networkx as nx\n",
    "import matplotlib.pyplot as plp"
   ]
  },
  {
   "cell_type": "code",
   "execution_count": 4,
   "metadata": {},
   "outputs": [],
   "source": [
    "# Criando uma instância de grafo.\n",
    "\n",
    "grafo_1 = nx.Graph()\n",
    "\n",
    "# print(grafo_1)\n"
   ]
  },
  {
   "cell_type": "markdown",
   "metadata": {},
   "source": [
    "O nosso primeiro grafo foi criado, porém, este ainda não possui vértices e arestas. Vamos adicionar algumas informações em nosso grafo. "
   ]
  },
  {
   "cell_type": "code",
   "execution_count": 5,
   "metadata": {},
   "outputs": [],
   "source": [
    "# Adicionando 4 nós\n",
    "grafo_1.add_node(1)\n",
    "grafo_1.add_node(2)\n",
    "grafo_1.add_node(3)\n",
    "grafo_1.add_node(4)\n",
    "\n",
    "\n",
    "# Adicionando 2 arestas\n",
    "grafo_1.add_edge(1,2)\n",
    "grafo_1.add_edge(3,4)"
   ]
  },
  {
   "cell_type": "code",
   "execution_count": 6,
   "metadata": {},
   "outputs": [
    {
     "name": "stdout",
     "output_type": "stream",
     "text": [
      "[1, 2, 3, 4]\n",
      "[(1, 2), (3, 4)]\n"
     ]
    }
   ],
   "source": [
    "print(grafo_1.nodes)\n",
    "print(grafo_1.edges)"
   ]
  },
  {
   "cell_type": "code",
   "execution_count": 10,
   "metadata": {},
   "outputs": [
    {
     "data": {
      "image/png": "[encoded data removed]",
      "text/plain": [
       "<Figure size 432x288 with 1 Axes>"
      ]
     },
     "metadata": {},
     "output_type": "display_data"
    }
   ],
   "source": [
    "#Desenhando nosso grafo\n",
    "nx.draw(grafo_1, with_labels=True, font_weight='bold')"
   ]
  },
  {
   "cell_type": "markdown",
   "metadata": {},
   "source": [
    "Vamos refazer os passos acima de forma em poucas linhas de código"
   ]
  },
  {
   "cell_type": "code",
   "execution_count": 8,
   "metadata": {},
   "outputs": [
    {
     "data": {
      "image/png": "[encoded data removed]",
      "text/plain": [
       "<Figure size 432x288 with 1 Axes>"
      ]
     },
     "metadata": {},
     "output_type": "display_data"
    }
   ],
   "source": [
    "grafo_1 = nx.Graph()\n",
    "grafo_1.add_nodes_from([i for i in range(1,5)])\n",
    "grafo_1.add_edges_from([(1,2),(3,4)])\n",
    "nx.draw(grafo_1, with_labels=True, font_weight='bold')"
   ]
  },
  {
   "cell_type": "code",
   "execution_count": 9,
   "metadata": {},
   "outputs": [
    {
     "data": {
      "image/png": "[encoded data removed]",
      "text/plain": [
       "<Figure size 432x288 with 1 Axes>"
      ]
     },
     "metadata": {},
     "output_type": "display_data"
    }
   ],
   "source": [
    "nx.draw(grafo_1, with_labels=True, font_weight='bold')"
   ]
  },
  {
   "cell_type": "code",
   "execution_count": null,
   "metadata": {},
   "outputs": [],
   "source": []
  },
  {
   "cell_type": "code",
   "execution_count": null,
   "metadata": {},
   "outputs": [],
   "source": []
  }
 ],
 "metadata": {
  "interpreter": {
   "hash": "ff4f85d6e04298634172ac5d8264e7e9b556b95639fe52ebb9425c4d4cba0c9c"
  },
  "kernelspec": {
   "display_name": "Python 3.9.7 ('base')",
   "language": "python",
   "name": "python3"
  },
  "language_info": {
   "codemirror_mode": {
    "name": "ipython",
    "version": 3
   },
   "file_extension": ".py",
   "mimetype": "text/x-python",
   "name": "python",
   "nbconvert_exporter": "python",
   "pygments_lexer": "ipython3",
   "version": "3.9.7"
  },
  "orig_nbformat": 4
 },
 "nbformat": 4,
 "nbformat_minor": 2
}
