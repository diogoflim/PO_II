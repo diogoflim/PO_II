{
 "cells": [
  {
   "cell_type": "markdown",
   "metadata": {},
   "source": [
    "Universidade Federal Fluminense\n",
    "\n",
    "TEP - Departamento de Engenharia de Produção\n",
    "\n",
    "Disciplina: PESQUISA OPERACIONAL II\n",
    "\n",
    "Docente: Diogo Ferreira de Lima Silva"
   ]
  },
  {
   "cell_type": "markdown",
   "metadata": {},
   "source": [
    "# NetworkX"
   ]
  },
  {
   "cell_type": "markdown",
   "metadata": {},
   "source": [
    "NetworkX consiste em um pacote da linguagem de programação Python com foco em Grafos/Redes. \n",
    "\n",
    "- Site oficial: https://networkx.org/\n",
    "- Tutorial oficial: https://networkx.org/documentation/stable/tutorial.html \n",
    "\n",
    "Vários métodos estudados durante à disciplina de Pesquisa Operacional II."
   ]
  },
  {
   "cell_type": "markdown",
   "metadata": {},
   "source": [
    "Vamos criar nosso primeiro grafo por meio do NetworkX. Para isso, primeiramente vamos importar as bibliotecas que serão usadas. Além do pacote NetworkX, vamos importar o matplotlib para visualizarmos os grafos (https://matplotlib.org/3.5.0/api/_as_gen/matplotlib.pyplot.html).   "
   ]
  },
  {
   "cell_type": "code",
   "execution_count": 1,
   "metadata": {},
   "outputs": [],
   "source": [
    "#Importando os pacotes networkx e matplotlib.pyplot\n",
    "\n",
    "import networkx as nx\n",
    "import matplotlib.pyplot as plp\n"
   ]
  },
  {
   "cell_type": "code",
   "execution_count": 2,
   "metadata": {},
   "outputs": [
    {
     "name": "stdout",
     "output_type": "stream",
     "text": [
      "Graph with 0 nodes and 0 edges\n"
     ]
    }
   ],
   "source": [
    "# Criando uma instância de grafo.\n",
    "\n",
    "grafo_1 = nx.Graph()\n",
    "print(grafo_1)\n"
   ]
  },
  {
   "cell_type": "markdown",
   "metadata": {},
   "source": [
    "O nosso primeiro grafo foi criado, porém, este ainda não possui vértices e arestas. Vamos adicionar algumas informações em nosso grafo. "
   ]
  },
  {
   "cell_type": "code",
   "execution_count": 3,
   "metadata": {},
   "outputs": [],
   "source": [
    "# Adicionando 4 nós\n",
    "grafo_1.add_node(1)\n",
    "grafo_1.add_node(2)\n",
    "grafo_1.add_node(3)\n",
    "grafo_1.add_node(4)\n",
    "\n",
    "\n",
    "# Adicionando 2 arestas\n",
    "grafo_1.add_edge(1,2)\n",
    "grafo_1.add_edge(3,4)"
   ]
  },
  {
   "cell_type": "code",
   "execution_count": 4,
   "metadata": {},
   "outputs": [
    {
     "name": "stdout",
     "output_type": "stream",
     "text": [
      "[1, 2, 3, 4]\n",
      "[(1, 2), (3, 4)]\n"
     ]
    }
   ],
   "source": [
    "print(grafo_1.nodes)\n",
    "print(grafo_1.edges)"
   ]
  },
  {
   "cell_type": "code",
   "execution_count": 5,
   "metadata": {},
   "outputs": [
    {
     "data": {
      "image/png": "[encoded data removed]",
      "text/plain": [
       "<Figure size 432x288 with 1 Axes>"
      ]
     },
     "metadata": {},
     "output_type": "display_data"
    }
   ],
   "source": [
    "#Desenhando nosso grafo\n",
    "\n",
    "nx.draw(grafo_1, with_labels=True, font_weight='bold')"
   ]
  },
  {
   "cell_type": "code",
   "execution_count": null,
   "metadata": {},
   "outputs": [],
   "source": []
  }
 ],
 "metadata": {
  "interpreter": {
   "hash": "e4cce46d6be9934fbd27f9ca0432556941ea5bdf741d4f4d64c6cd7f8dfa8fba"
  },
  "kernelspec": {
   "display_name": "Python 3.9.7 ('base')",
   "language": "python",
   "name": "python3"
  },
  "language_info": {
   "codemirror_mode": {
    "name": "ipython",
    "version": 3
   },
   "file_extension": ".py",
   "mimetype": "text/x-python",
   "name": "python",
   "nbconvert_exporter": "python",
   "pygments_lexer": "ipython3",
   "version": "3.9.7"
  },
  "orig_nbformat": 4
 },
 "nbformat": 4,
 "nbformat_minor": 2
}
