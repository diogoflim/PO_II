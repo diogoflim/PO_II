{
 "cells": [
  {
   "attachments": {},
   "cell_type": "markdown",
   "metadata": {},
   "source": [
    "[![Open In Colab](https://colab.research.google.com/assets/colab-badge.svg)](https://colab.research.google.com/github/diogoflim/PO_II/blob/main/3_Otimização_Redes/Fluxo_Max_CorteMin/MaxFlow_CorteMin.ipynb)"
   ]
  },
  {
   "cell_type": "code",
   "execution_count": 73,
   "metadata": {},
   "outputs": [],
   "source": [
    "import networkx as nx\n",
    "import matplotlib.pyplot as plt\n"
   ]
  },
  {
   "cell_type": "code",
   "execution_count": 74,
   "metadata": {},
   "outputs": [],
   "source": [
    "# Cria um objeto de grafo direcionado\n",
    "G = nx.DiGraph()\n",
    "\n",
    "# Adiciona nós ao grafo\n",
    "G.add_node('s')  # Nó fonte\n",
    "G.add_node('a')\n",
    "G.add_node('b')\n",
    "G.add_node('c')\n",
    "G.add_node('d')\n",
    "G.add_node('t')  # Nó destino\n",
    "\n",
    "# Adiciona arestas ao grafo com suas capacidades\n",
    "G.add_edge('s', 'a', capacidade=3)\n",
    "G.add_edge('s', 'b', capacidade=2)\n",
    "G.add_edge('a', 'b', capacidade=1)\n",
    "G.add_edge('a', 'c', capacidade=3)\n",
    "G.add_edge('b', 'd', capacidade=2)\n",
    "G.add_edge('c', 'd', capacidade=2)\n",
    "G.add_edge('c', 't', capacidade=3)\n",
    "G.add_edge('d', 't', capacidade=3)\n"
   ]
  },
  {
   "cell_type": "code",
   "execution_count": 78,
   "metadata": {},
   "outputs": [
    {
     "data": {
      "image/png": "[encoded data removed]",
      "text/plain": [
       "<Figure size 432x288 with 1 Axes>"
      ]
     },
     "metadata": {},
     "output_type": "display_data"
    }
   ],
   "source": [
    "# Desenha o grafo com os rótulos de capacidade nas arestas\n",
    "\n",
    "pos =  nx.spring_layout(G)\n",
    "nx.draw_networkx(G, pos, with_labels=True, node_size = 800)\n",
    "aresta_rotulos = {(u, v): d['capacidade'] for u, v, d in G.edges(data=True)}\n",
    "nx.draw_networkx_edge_labels(G, pos, edge_labels=aresta_rotulos, font_color='red')\n",
    "plt.show()\n"
   ]
  },
  {
   "attachments": {},
   "cell_type": "markdown",
   "metadata": {},
   "source": [
    "### Fluxo Máximo"
   ]
  },
  {
   "cell_type": "code",
   "execution_count": 79,
   "metadata": {},
   "outputs": [],
   "source": [
    "# Calcula o fluxo máximo\n",
    "fluxo_max, fluxo_dict = nx.maximum_flow(G, 's', 't', capacity = 'capacidade')\n"
   ]
  },
  {
   "cell_type": "code",
   "execution_count": 80,
   "metadata": {},
   "outputs": [
    {
     "name": "stdout",
     "output_type": "stream",
     "text": [
      "Fluxo máximo: 5\n",
      "Dicionário de fluxo: {'s': {'a': 3, 'b': 2}, 'a': {'b': 0, 'c': 3}, 'b': {'d': 2}, 'c': {'d': 0, 't': 3}, 'd': {'t': 2}, 't': {}}\n"
     ]
    }
   ],
   "source": [
    "# Imprime os resultados\n",
    "print(\"Fluxo máximo:\", fluxo_max)\n",
    "print(\"Dicionário de fluxo:\", fluxo_dict)\n"
   ]
  },
  {
   "attachments": {},
   "cell_type": "markdown",
   "metadata": {},
   "source": [
    "### Corte Mínimo"
   ]
  },
  {
   "cell_type": "code",
   "execution_count": 81,
   "metadata": {},
   "outputs": [],
   "source": [
    "# Corte mínimo\n",
    "corte_min, part = nx.minimum_cut(G, 's', 't', capacity = 'capacidade')\n",
    "\n"
   ]
  },
  {
   "cell_type": "code",
   "execution_count": 82,
   "metadata": {},
   "outputs": [
    {
     "name": "stdout",
     "output_type": "stream",
     "text": [
      "Valor do Corte Mínimo: 5\n",
      "Partição dos vértices a partir do corte mínimo: ({'s', 'a', 'b'}, {'d', 't', 'c'})\n"
     ]
    }
   ],
   "source": [
    "# Imprime os resultados\n",
    "print(\"Valor do Corte Mínimo:\", corte_min)\n",
    "print(\"Partição dos vértices a partir do corte mínimo:\", part)\n"
   ]
  }
 ],
 "metadata": {
  "kernelspec": {
   "display_name": "base",
   "language": "python",
   "name": "python3"
  },
  "language_info": {
   "codemirror_mode": {
    "name": "ipython",
    "version": 3
   },
   "file_extension": ".py",
   "mimetype": "text/x-python",
   "name": "python",
   "nbconvert_exporter": "python",
   "pygments_lexer": "ipython3",
   "version": "3.9.7"
  },
  "orig_nbformat": 4
 },
 "nbformat": 4,
 "nbformat_minor": 2
}
