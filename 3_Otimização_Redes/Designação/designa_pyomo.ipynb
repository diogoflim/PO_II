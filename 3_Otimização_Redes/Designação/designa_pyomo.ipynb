{
 "cells": [
  {
   "cell_type": "markdown",
   "metadata": {},
   "source": [
    "[![Open In Colab](https://colab.research.google.com/assets/colab-badge.svg)](https://colab.research.google.com/github/diogoflim/PO_II/blob/main/3_Otimização_Redes/Designação/designa_pyomo.ipynb)"
   ]
  },
  {
   "cell_type": "markdown",
   "metadata": {},
   "source": [
    "# Pesquisa Operacional II\n",
    "\n",
    "**Prof. Diogo Ferreira de Lima Silva (TEP-UFF)**\n",
    "\n",
    "Monitores:\n",
    "- Henrique Monteiro Soares da Silva (2023)"
   ]
  },
  {
   "cell_type": "markdown",
   "metadata": {},
   "source": [
    "# Problema da Designação"
   ]
  },
  {
   "cell_type": "markdown",
   "metadata": {},
   "source": [
    "Um Centro de Distribuição deve alocar quatro equipes de trabalho (recursos) a quatro reparos não iniciados.\n",
    "\n",
    "A tabela abaixo apresenta os custos de designação:"
   ]
  },
  {
   "cell_type": "code",
   "execution_count": null,
   "metadata": {},
   "outputs": [],
   "source": [
    "import pandas as pd"
   ]
  },
  {
   "cell_type": "markdown",
   "metadata": {},
   "source": [
    "Vamos criar uma tabela de custos para o exemplo visto na aula!"
   ]
  },
  {
   "cell_type": "code",
   "execution_count": null,
   "metadata": {},
   "outputs": [],
   "source": [
    "c = pd.DataFrame({'I':[6,8,3,3], 'II':[4,8,5,9], 'III':[3,10,8,8], 'IV':[5,7,6,10]}, index = ['A', 'B', 'C', 'D'])"
   ]
  },
  {
   "cell_type": "markdown",
   "metadata": {},
   "source": [
    "Vamos imprimir nossa tabela na tela!"
   ]
  },
  {
   "cell_type": "code",
   "execution_count": null,
   "metadata": {},
   "outputs": [],
   "source": [
    "c"
   ]
  },
  {
   "cell_type": "code",
   "execution_count": null,
   "metadata": {},
   "outputs": [],
   "source": [
    "c_dict = c.stack().to_dict()\n",
    "\n",
    "c_dict"
   ]
  },
  {
   "cell_type": "code",
   "execution_count": null,
   "metadata": {},
   "outputs": [],
   "source": [
    "#Execute esse bloco caso esteja executando no Google Colab\n",
    "!pip install -q pyomo\n",
    "!pip install -i https://pypi.gurobi.com gurobipy"
   ]
  },
  {
   "cell_type": "code",
   "execution_count": null,
   "metadata": {},
   "outputs": [],
   "source": [
    "import pyomo.environ as pe"
   ]
  },
  {
   "cell_type": "code",
   "execution_count": null,
   "metadata": {},
   "outputs": [],
   "source": [
    "M = pe.ConcreteModel()"
   ]
  },
  {
   "cell_type": "code",
   "execution_count": null,
   "metadata": {},
   "outputs": [],
   "source": [
    "M.pprint()"
   ]
  },
  {
   "cell_type": "code",
   "execution_count": null,
   "metadata": {},
   "outputs": [],
   "source": [
    "M.equipes = pe.Set(initialize = ['A', 'B', 'C', 'D'])\n",
    "M.reparos = pe.Set(initialize = ['I', 'II', 'III', 'IV'])"
   ]
  },
  {
   "cell_type": "code",
   "execution_count": null,
   "metadata": {},
   "outputs": [],
   "source": [
    "M.pprint()"
   ]
  },
  {
   "cell_type": "code",
   "execution_count": null,
   "metadata": {},
   "outputs": [],
   "source": [
    "M.custos = pe.Param(M.equipes, M.reparos, initialize = c_dict)"
   ]
  },
  {
   "cell_type": "code",
   "execution_count": null,
   "metadata": {},
   "outputs": [],
   "source": [
    "M.x = pe.Var(M.equipes, M.reparos, within= pe.NonNegativeReals)"
   ]
  },
  {
   "cell_type": "code",
   "execution_count": null,
   "metadata": {},
   "outputs": [],
   "source": [
    "M.pprint()"
   ]
  },
  {
   "cell_type": "code",
   "execution_count": null,
   "metadata": {},
   "outputs": [],
   "source": [
    "# R1: Cada equipe só pode ser alocada para um único reparo.\n",
    "M.R_ofertas = pe.ConstraintList()\n",
    "for i in M.equipes:\n",
    "    M.R_ofertas.add(expr = sum(M.x[i, j] for j in M.reparos) == 1)\n",
    "\n",
    "\n",
    "# R2: Cada centro de distribuição deve ter a sua demanda atendida\n",
    "M.R_demandas = pe.ConstraintList()\n",
    "for j in M.reparos:\n",
    "    M.R_demandas.add(expr= sum(M.x[i, j] for i in M.equipes) == 1)"
   ]
  },
  {
   "cell_type": "code",
   "execution_count": null,
   "metadata": {},
   "outputs": [],
   "source": [
    "M.pprint()"
   ]
  },
  {
   "cell_type": "code",
   "execution_count": null,
   "metadata": {},
   "outputs": [],
   "source": [
    "def custo_total(M):\n",
    "    return sum(M.x[i,j] * M.custos[i,j] for i in M.equipes for j in M.reparos)\n",
    "\n",
    "# FUNÇÃO OBJETIVO\n",
    "M.obj = pe.Objective(rule= custo_total ,sense= pe.minimize)\n",
    "  "
   ]
  },
  {
   "cell_type": "code",
   "execution_count": null,
   "metadata": {},
   "outputs": [],
   "source": [
    "pe.SolverFactory('gurobi').solve(M)\n"
   ]
  },
  {
   "cell_type": "code",
   "execution_count": null,
   "metadata": {},
   "outputs": [],
   "source": [
    "print(f\"z= {pe.value(M.obj)}\")\n",
    "\n",
    "for k in M.x.keys(): \n",
    "    if pe.value(M.x[k]) > 0:\n",
    "        print (f\"x_{k} = {pe.value(M.x[k])}\")"
   ]
  }
 ],
 "metadata": {
  "kernelspec": {
   "display_name": "base",
   "language": "python",
   "name": "python3"
  },
  "language_info": {
   "codemirror_mode": {
    "name": "ipython",
    "version": 3
   },
   "file_extension": ".py",
   "mimetype": "text/x-python",
   "name": "python",
   "nbconvert_exporter": "python",
   "pygments_lexer": "ipython3",
   "version": "3.9.7"
  },
  "orig_nbformat": 4
 },
 "nbformat": 4,
 "nbformat_minor": 2
}
