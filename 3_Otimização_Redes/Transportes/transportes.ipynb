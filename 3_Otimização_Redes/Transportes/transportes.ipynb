{
 "cells": [
  {
   "attachments": {},
   "cell_type": "markdown",
   "metadata": {},
   "source": [
    "[![Open In Colab](https://colab.research.google.com/assets/colab-badge.svg)](https://colab.research.google.com/github/diogoflim/PO_II/blob/main/3_Otimização_Redes/Transportes/transportes.ipynb)"
   ]
  },
  {
   "attachments": {},
   "cell_type": "markdown",
   "metadata": {},
   "source": [
    "## **Pesquisa Operacional II**\n",
    "\n",
    "**Prof. Diogo Ferreira de Lima Silva (TEP-UFF)**\n",
    "\n",
    "Monitores: \n",
    "- Rodrigo Celso de Lima Porto (2022)\n"
   ]
  },
  {
   "attachments": {},
   "cell_type": "markdown",
   "metadata": {
    "id": "HDm5fsKVifYJ"
   },
   "source": [
    "# PROBLEMA DE TRANSPORTE\n",
    "\n",
    "Produtos precisam ser enviados a partir de um conjunto de $m$ origens para um conjunto de $n$ destinos. \n",
    "\n",
    "- Cada origem $i$ pode fornecer, no máximo $a_i$ unidades. \n",
    "- Cada destino $j$ possui uma demanda por $b_j$ unidades.\n",
    "\n",
    "Sabe-se o custo unitário do envio de produtos da fábrica $i$ para o cliente $j$, dado por $c_{ij}$.\n",
    "\n",
    "**Objetivo**: minimizar o custo total do transporte. \n",
    "\n",
    "\n",
    "O modelo abstrato de programação linear para este tipo de problema é dado como:\n",
    "\n",
    "$$\n",
    "\\text{Min } z = \\sum_{i=1}^{m} \\sum_{j=1}^{n} c_{ij}x_{ij}\\\\\n",
    "$$\n",
    "$$\n",
    "\\begin{equation}\n",
    "  \\begin{array}{rlll}\n",
    "    \\text{Sujeito a: } & & \\\\\n",
    "    & \\sum_{j=1}^{n} x_{ij} \\le a_{i} & , \\forall \\ i=1,...,m & (1) \\\\\n",
    "    & \\sum_{i=1}^{m} x_{ij} \\ge b_{j} & , \\forall \\ j=1,...,n & (2) \\\\\n",
    "    & x_{ij} \\ge 0 & , \\forall i = 1,...,m & e & j=1,...,n & (3)\n",
    "  \\end{array}\n",
    "\\end{equation}\n",
    "$$\n",
    "\n",
    "\n",
    "Onde:\n",
    "\n",
    "- Cada $x_{ij}$ é uma variável de decisão, representando a quantidade de produtos enviadas do ofertante $i$ para o cliente $j$ \n",
    "- $c_{ij}$ contém o custo de transporte da unidade da fábrica $i$ para o cliente $j$ \n",
    "- $a_i$ contém a capacidade máxima de cada fábrica $i$;\n",
    "- $b_j$ contém a demanda de cada cliente $j$;\n",
    "- As restrições do tipo $(1)$, restrições de capacidade, garantem que a quantidade de produtos despachadas por cada ofertante não seja maior do que sua respectiva oferta;\n",
    "- As restrições do tipo $(2)$, de demanda, garantem que os clientes tenham as demandas atendidas;\n",
    "- As restrições do tipo $(3)$ são de não negatividade.\n"
   ]
  },
  {
   "attachments": {},
   "cell_type": "markdown",
   "metadata": {},
   "source": [
    "# Vamos modelar uma instância Problema dos Transportes"
   ]
  },
  {
   "attachments": {},
   "cell_type": "markdown",
   "metadata": {
    "id": "R-nyUgss8uH8"
   },
   "source": [
    "Uma empresa possui três fábricas que produzem carrinhos de bebê que devem ser remetidos para quatro centros de distribuição. As Fábricas F1, F2 e F3 produzem, respectivamente, 12, 17 e 11 remessas por mês. Cada centro de distribuição CD precisa receber dez remessas por mês. Com base na tabela de custos abaixo, que mostra o custo unitário de transporte das Fábricas à cada CD, quanto deve ser remetido de cada fábrica para cada um dos centros de distribuição para minimizar o custo total de transporte?\n",
    "\n",
    "<center>\n",
    "\n",
    "|Fábrica|$CD1$|$CD2$|$CD3$|$CD4$|\n",
    "|:-----:|:---:|:---:|:---:|:---:|\n",
    "|$F1$   |40100|65100|20100|35100|\n",
    "|$F2$   |55100|70100|30100|50100|\n",
    "|$F3$   |30100|60100|40100|45100|\n",
    "\n",
    "</center>\n"
   ]
  },
  {
   "attachments": {},
   "cell_type": "markdown",
   "metadata": {},
   "source": [
    "## Formulação do Problema\n",
    "\n",
    "A formulação deste modelo seria uma instância do problema de transporte, podendo ser dado como:\n",
    "\n",
    "$$\n",
    "\\text{Min } z = 40100x_{11} + 65100x_{12} + 20100x_{13} + 35100x_{14} + 55100x_{21} + 70100x_{22} + 30100x_{23} + 50100x_{24} + 30100x_{31} + 60100x_{32} + 40100x_{33} + 45100x_{34}\\\\\n",
    "$$\n",
    "$$\n",
    "\\begin{equation}\n",
    "  \\begin{array}{rll}\n",
    "    \\text{Sujeito a: } & & \\\\\n",
    "    & x_{11} + x_{12} + x_{13} + x_{14} \\le 12 & \\text{(Fábrica 1)} \\\\\n",
    "    & x_{21} + x_{22} + x_{23} + x_{24} \\le 17 & \\text{(Fábrica 2)} \\\\\n",
    "    & x_{31} + x_{32} + x_{33} + x_{34} \\le 11 & \\text{(Fábrica 3)} \\\\\n",
    "    & x_{11} + x_{21} + x_{31} \\ge 10 & \\text{(Centro de Distribuição 1)} \\\\\n",
    "    & x_{12} + x_{22} + x_{32} \\ge 10 & \\text{(Centro de Distribuição 2)} \\\\\n",
    "    & x_{13} + x_{23} + x_{33} \\ge 10 & \\text{(Centro de Distribuição 3)} \\\\\n",
    "    & x_{14} + x_{24} + x_{34} \\ge 10 & \\text{(Centro de Distribuição 4)} \\\\\n",
    "    & x_{ij} \\ge 0 \\\\\n",
    "  \\end{array}\n",
    "\\end{equation}\n",
    "$$\n",
    "Onde $x_{ij}$ é a quantidade de remessas enviadas da fábrica $i$ para o centro de distribuição $j$."
   ]
  },
  {
   "cell_type": "code",
   "execution_count": null,
   "metadata": {
    "id": "MWGu1HG6y9Ci"
   },
   "outputs": [],
   "source": [
    "#Execute esse bloco caso esteja executando no Google Colab\n",
    "!pip install -q pyomo\n",
    "!pip install -i https://pypi.gurobi.com gurobipy"
   ]
  },
  {
   "attachments": {},
   "cell_type": "markdown",
   "metadata": {
    "id": "Yml8ZlnPvxMF"
   },
   "source": [
    "---\n",
    "# Resolução\n",
    "---\n",
    "\n",
    "<p align=justify> &emsp; Vamos imaginar que os custos de transporte das fábricas até os clientes estejam organizados em uma matriz e as ofertas de remessa de cada fábrica e demandas de cada centro de distribuição estejam armazenados em duas listas distintas, como mostrado a seguir:</p>"
   ]
  },
  {
   "cell_type": "code",
   "execution_count": 120,
   "metadata": {},
   "outputs": [],
   "source": [
    "import numpy as np\n",
    "import pyomo.environ as pyo # Importando o Pyomo\n",
    "import pandas as pd\n"
   ]
  },
  {
   "cell_type": "code",
   "execution_count": 121,
   "metadata": {},
   "outputs": [],
   "source": [
    "c = pd.DataFrame ([[40100, 65100, 20100, 35100], # F1\n",
    "                    [55100, 70100, 30100, 50100], # F2\n",
    "                    [30100, 60100, 40100, 45100]])\n",
    "\n",
    "c_dict = c.stack().to_dict()\n",
    "\n",
    "# Vamos armazenar nossas ofertas e demandas nas listas abaixo:\n",
    "a = [12, 17, 11]\n",
    "b = [10, 10, 10, 10]\n",
    "\n",
    "m = len(a)\n",
    "n = len(b)"
   ]
  },
  {
   "cell_type": "code",
   "execution_count": 122,
   "metadata": {},
   "outputs": [],
   "source": [
    "# Criando uma instância do modelo\n",
    "M = pyo.ConcreteModel() "
   ]
  },
  {
   "cell_type": "code",
   "execution_count": 123,
   "metadata": {},
   "outputs": [],
   "source": [
    "# Criando dois índices para serem usados no pyomo\n",
    "M.fabricas = pyo.Set(initialize = range(m)) # Índice para as fábricas\n",
    "M.cds = pyo.Set(initialize = range(n)) # Índice para os centros de distribuição"
   ]
  },
  {
   "cell_type": "code",
   "execution_count": 124,
   "metadata": {},
   "outputs": [],
   "source": [
    "# PASSANDO OS PARÂMETROS DO PROBLEMA\n",
    "\n",
    "# Custos de transporte da fábrica i para o centro de dsitribuição j\n",
    "M.custos = pyo.Param(M.fabricas, M.cds, initialize = c_dict)\n",
    "\n",
    "# Capacidade de cada fábrica\n",
    "M.capacidades = pyo.Param (M.fabricas, initialize = a)\n",
    "\n",
    "# Demanda de cada centro de distribuição\n",
    "M.demandas = pyo.Param (M.cds, initialize = b)\n",
    "  "
   ]
  },
  {
   "cell_type": "code",
   "execution_count": 125,
   "metadata": {},
   "outputs": [],
   "source": [
    "# VARIÁVEIS DE DECISÃO\n",
    "# xij representa a quantidade de remessas enviada da fábrica i para o CD j\n",
    "M.x = pyo.Var(M.fabricas, M.cds, within= pyo.NonNegativeReals)\n"
   ]
  },
  {
   "cell_type": "code",
   "execution_count": 126,
   "metadata": {},
   "outputs": [],
   "source": [
    "def custo_total (M):\n",
    "    return sum(M.x[i,j] * M.custos[i,j] for i in M.fabricas for j in M.cds)\n",
    "\n",
    "# FUNÇÃO OBJETIVO\n",
    "M.obj = pyo.Objective(rule= custo_total ,sense= pyo.minimize)\n",
    "  "
   ]
  },
  {
   "cell_type": "code",
   "execution_count": 127,
   "metadata": {},
   "outputs": [],
   "source": [
    "# R1: O total de remessas despachada por cada fábrica não pode ser maior que a sua oferta.\n",
    "M.R_ofertas = pyo.Constraint(M.fabricas, rule= lambda M, i: sum(M.x[i, j] for j in M.cds) <= M.capacidades[i])\n",
    "\n",
    "# R2: Cada centro de distribuição deve ter a sua demanda atendida\n",
    "M.R_demandas = pyo.Constraint(M.cds, rule= lambda M, j: sum(M.x[i, j] for i in M.fabricas) >= M.demandas[j])"
   ]
  },
  {
   "cell_type": "code",
   "execution_count": 128,
   "metadata": {},
   "outputs": [
    {
     "data": {
      "text/plain": [
       "{'Problem': [{'Name': 'unknown', 'Lower bound': 1624000.0, 'Upper bound': 1624000.0, 'Number of objectives': 1, 'Number of constraints': 8, 'Number of variables': 13, 'Number of nonzeros': 25, 'Sense': 'minimize'}], 'Solver': [{'Status': 'ok', 'Termination condition': 'optimal', 'Statistics': {'Branch and bound': {'Number of bounded subproblems': 0, 'Number of created subproblems': 0}}, 'Error rc': 0, 'Time': 0.07978487014770508}], 'Solution': [OrderedDict([('number of solutions', 0), ('number of solutions displayed', 0)])]}"
      ]
     },
     "execution_count": 128,
     "metadata": {},
     "output_type": "execute_result"
    }
   ],
   "source": [
    "# RESOLUÇÃO DO MODELO\n",
    "pyo.SolverFactory('glpk').solve(M)"
   ]
  },
  {
   "cell_type": "code",
   "execution_count": 129,
   "metadata": {},
   "outputs": [
    {
     "name": "stdout",
     "output_type": "stream",
     "text": [
      "z= 1624000.0\n",
      "x_(0, 2) = 2.0\n",
      "x_(0, 3) = 10.0\n",
      "x_(1, 1) = 9.0\n",
      "x_(1, 2) = 8.0\n",
      "x_(2, 0) = 10.0\n",
      "x_(2, 1) = 1.0\n"
     ]
    }
   ],
   "source": [
    "print(f\"z= {pyo.value(M.obj)}\")\n",
    "\n",
    "for k in M.x.keys(): \n",
    "    if pyo.value(M.x[k]) > 0:\n",
    "        print (f\"x_{k} = {pyo.value(M.x[k])}\")"
   ]
  },
  {
   "attachments": {},
   "cell_type": "markdown",
   "metadata": {
    "id": "x6eotciBZ6Ct"
   },
   "source": [
    "---\n",
    "---\n",
    "# EXERCÍCIO DE FIXAÇÃO\n",
    "---\n",
    "---\n",
    "\n",
    "> <p align=justify>Uma companhia distribuidora de bebidas tem 2 centros de produção - Araraquara e São José dos Campos - e 3 mercados consumidores principais - São Paulo, Belo Horizonte e Rio de Janeiro. O custo unitário de se transportar uma unidade do produto de cada centro de produção a cada mercado consumidor é dada na tabela a seguir.Nessa tabela, também são apresentadas as demandas de cada mercado e a quantidade máxima disponível do produto em cada centro de produção no próximo período.</p>\n",
    "\n",
    "<center>\n",
    "<table>\n",
    "  <caption>\n",
    "    <b>Custos unitários dos centros de produção aos mercados consumidores</b>\n",
    "  </caption>\n",
    "  <tr align=center>\n",
    "    <th rowspan=2>Centros de produção</th>\n",
    "    <th colspan=3>Mercados consumidores</th>\n",
    "    <th rowspan=2>Suprimento disponível</th>\n",
    "  </tr>\n",
    "  <tr align=center>\n",
    "    <th>São Paulo (3)</th>\n",
    "    <th>Belo Horizonte (4)</th>\n",
    "    <th>Rio de Janeiro (5)</th>\n",
    "  </tr>\n",
    "  <tr align=center>\n",
    "    <td>Araraquara (1)</td>\n",
    "    <td>4</td>\n",
    "    <td>2</td>\n",
    "    <td>5</td>\n",
    "    <td>800</td>\n",
    "  </tr>\n",
    "  <tr align=center>\n",
    "    <td>S. J. Campos (2)</td>\n",
    "    <td>11</td>\n",
    "    <td>7</td>\n",
    "    <td>4</td>\n",
    "    <td>1000</td>\n",
    "  </tr>\n",
    "  <tr align=center>\n",
    "    <td>Demanda dos mercados</td>\n",
    "    <td>500</td>\n",
    "    <td>400</td>\n",
    "    <td>900</td>\n",
    "  </tr>\n",
    "</table>\n",
    "</center>\n",
    "\n",
    "---\n",
    "Fonte: ARENALES, Marcos; ARMENTANO, Vinícius; MORANITO, Reinaldo e YANASSE, Horacio. <b>Pesquisa Operacional para Cursos de Engenharia</b>. 2ª edição. Exemplo 2.3, pág. 22.\n",
    "\n",
    "---"
   ]
  },
  {
   "attachments": {},
   "cell_type": "markdown",
   "metadata": {
    "id": "jjm_5LjqfffU"
   },
   "source": [
    "### (a) Resolva pelo Pyomo"
   ]
  },
  {
   "cell_type": "code",
   "execution_count": null,
   "metadata": {
    "id": "PcCkN35WfkQK"
   },
   "outputs": [],
   "source": [
    "import pyomo.environ as pyo\n",
    "\n"
   ]
  }
 ],
 "metadata": {
  "kernelspec": {
   "display_name": "Python 3.9.7 ('base')",
   "language": "python",
   "name": "python3"
  },
  "language_info": {
   "codemirror_mode": {
    "name": "ipython",
    "version": 3
   },
   "file_extension": ".py",
   "mimetype": "text/x-python",
   "name": "python",
   "nbconvert_exporter": "python",
   "pygments_lexer": "ipython3",
   "version": "3.9.7"
  },
  "orig_nbformat": 4,
  "vscode": {
   "interpreter": {
    "hash": "e4cce46d6be9934fbd27f9ca0432556941ea5bdf741d4f4d64c6cd7f8dfa8fba"
   }
  }
 },
 "nbformat": 4,
 "nbformat_minor": 2
}
