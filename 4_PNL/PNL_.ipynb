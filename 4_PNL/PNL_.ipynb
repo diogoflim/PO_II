{
 "cells": [
  {
   "attachments": {},
   "cell_type": "markdown",
   "metadata": {},
   "source": [
    "[![Open In Colab](https://colab.research.google.com/assets/colab-badge.svg)](https://colab.research.google.com/github/diogoflim/PO_II/blob/main/4_PNL/PNL_.ipynb)"
   ]
  },
  {
   "attachments": {},
   "cell_type": "markdown",
   "metadata": {},
   "source": [
    "# Programação Não Linear"
   ]
  },
  {
   "cell_type": "code",
   "execution_count": null,
   "metadata": {},
   "outputs": [],
   "source": [
    "# Execute este bloco caso esteja no Google Colab\n",
    "!pip install pyomo # Instala o Pyomo no ambiente de execução"
   ]
  },
  {
   "cell_type": "code",
   "execution_count": null,
   "metadata": {},
   "outputs": [],
   "source": [
    "!apt-get install -y -qq software-properties-common python-software-properties module-init-tools\n",
    "!add-apt-repository -y ppa:ubuntu-toolchain-r/test\n",
    "!apt-get update -qq\n",
    "!apt-get install -y -qq g++-4.9\n",
    "!apt-get install -y -qq libstdc++-4.9-dev\n",
    "!apt-get install -y -qq ipopt"
   ]
  },
  {
   "cell_type": "code",
   "execution_count": null,
   "metadata": {},
   "outputs": [],
   "source": [
    "import pyomo.environ as pe # Importando o Pyomo\n",
    "\n",
    "# MODELO\n",
    "M = pe.ConcreteModel() # Criando o modelo concreto para o nosso problema\n",
    "\n",
    "# VARIÁVEIS\n",
    "x = M.x = pe.Var(domain= pe.PositiveReals) # Definindo a variável x\n",
    "y = M.y = pe.Var(domain= pe.PositiveReals) # Definindo a variável y\n",
    "\n",
    "# FUNÇÃO OBJETIVO\n",
    "z = M.z = pe.Objective(expr= x*y, sense= pe.maximize) # Definindo a função objetivo\n",
    "\n",
    "# RESTRIÇÃO\n",
    "M.R1 = pe.Constraint(expr= x+y == 100) # Definindo uma restrição de igualdade\n",
    "\n",
    "\n",
    "# SOLUCIONANDO O MODELO\n",
    "pe.SolverFactory('ipopt').solve(M)\n",
    "\n",
    "# Imprime o resultado\n",
    "print(f\"z= {pe.value(M.obj)}\\nx= {pe.value(M.x)}\\ny= {pe.value(M.y)}\")"
   ]
  }
 ],
 "metadata": {
  "language_info": {
   "name": "python"
  },
  "orig_nbformat": 4
 },
 "nbformat": 4,
 "nbformat_minor": 2
}
