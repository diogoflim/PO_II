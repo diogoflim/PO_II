{
 "cells": [
  {
   "cell_type": "markdown",
   "metadata": {},
   "source": [
    "[![Open In Colab](https://colab.research.google.com/assets/colab-badge.svg)](https://colab.research.google.com/github/diogoflim/PO_II/blob/main/0_PythonRev/lambda_listcomprehention.ipynb)"
   ]
  },
  {
   "cell_type": "markdown",
   "metadata": {},
   "source": [
    "## **Pesquisa Operacional II**\n",
    "\n",
    "**Prof. Diogo Ferreira de Lima Silva (TEP-UFF)**\n",
    "\n",
    "Autores do notebook: \n",
    "- Rodrigo Celso de Lima Porto\n",
    "- Diogo Ferreira de Lima Silva"
   ]
  },
  {
   "cell_type": "markdown",
   "metadata": {
    "id": "uT41-quu4_qD"
   },
   "source": [
    "## Função ```lambda```\n",
    "\n",
    "\n",
    "<p align=justify>\n",
    "&emsp; As funções anônimas no Python (isto é, funções que são criadas sem dar um nome a elas) são declaradas a partir da palavra reservada <code>lambda</code> (o porquê desse nome é um mistério para mim... ). E, como acabamos de ver, as funções <code>lambda</code> são bastante úteis para criar rapidamente uma função que só vamos usar apenas para uma ocasião em específico (que no nosso caso, era passar funções como entradas para os parâmetros <code>initialize=</code> e <code>rule=</code> que existem em várias funções do Pyomo).\n",
    "<br>\n",
    "&emsp; Ah, sim! Vale lembrar também que no Python é possível armazenar funções dentro de variáveis e passá-las também como valores para dentro de argumentos de outras funções (Quando funções recebem outras funções como parâmetros e realizam operações com elas, são chamadas de <i>Higher Order Functions</i>, isto é, funções de ordem mais alta).\n",
    "<br>\n",
    "&emsp; Para exemplificar, vamos criar uma função anônima que calcular a área de um círculo de raio $r$ e vamos armazená-lo dentro de uma variável.\n",
    "</p>"
   ]
  },
  {
   "cell_type": "code",
   "execution_count": null,
   "metadata": {
    "colab": {
     "base_uri": "https://localhost:8080/"
    },
    "executionInfo": {
     "elapsed": 302,
     "status": "ok",
     "timestamp": 1661548411726,
     "user": {
      "displayName": "Rodrigo Celso de Lima Porto",
      "userId": "00317348114914252656"
     },
     "user_tz": 180
    },
    "id": "lq2wRUVl8-ft",
    "outputId": "a38d681e-be00-42ef-c1de-cb6e5f1b2084"
   },
   "outputs": [
    {
     "name": "stdout",
     "output_type": "stream",
     "text": [
      "Area def: 12.566\n",
      "Area lambda: 12.566\n"
     ]
    }
   ],
   "source": [
    "# Modo tradicional de declarar funções em Python\n",
    "\n",
    "def areaCirculo(r):\n",
    "  area = 3.1415*r**2\n",
    "  return area\n",
    "print(f'Área (def): {areaCirculo(2)}')\n",
    "\n",
    "# Declarando uma função anônima com lambda\n",
    "\n",
    "area_circulo = lambda r: 3.1415*r**2\n",
    "print(f'Área (lambda): {area_circulo(2)}')"
   ]
  },
  {
   "cell_type": "markdown",
   "metadata": {
    "id": "A_K9ZdEU9SUE"
   },
   "source": [
    "<p align=justify>\n",
    "&emsp; A função <code>lambda</code>, neste caso, recebe como entrada o raio $r$ (as entradas são qualquer coisa entre a palavra <code>lambda</code> e o dois-pontos, separados por vírgula caso haja mais de um) e retorna uma expressão que corresponde ao valor da área do círculo (o retorno de uma função <code>lambda</code> é o que vem depois do dois-pontos e só pode haver apenas uma saída).\n",
    "<br>\n",
    "&emsp; Apesar das funções <code>lambda</code> serem bem úteis, elas são bem limitadas pelo fato de elas aceitarem apenas entradas e saída, não havendo possibilidade de escrever um escopo para a função. Portanto, em casos em que necessitaremos escrever uma função que exigirá mais do que uma linha de código que não seja para retorna um valor, será necessário definir a função usando o tradicional <code>def</code>.\n",
    "<br>\n",
    "&emsp; Por isso, sempre use o <code>lambda</code> quando for necessário criar uma função simples e curta, que só necessite passar entradas para retornar um único valor, sem um maior tratamento e processamento dessas entradas.\n",
    "</p>"
   ]
  },
  {
   "cell_type": "markdown",
   "metadata": {
    "id": "FutIPgvGTxPb"
   },
   "source": [
    "---\n",
    "## <i>List Comprehension</i>\n",
    "\n",
    "---\n",
    "\n",
    "<p align=justify>\n",
    "&emsp; O <i>List Comprehension</i> se trata de uma forma mais fácil e rápida de criar listas utilizando o <i>inline</i> <code>for</code> e o <i>inline</i> <code>if</code> combinados. Por exemplo, se queremos criar rapidamente uma lista dos números pares positivos menores ou iguais a 100, da maneira tradicional, escrevemos:\n",
    "</p>"
   ]
  },
  {
   "cell_type": "code",
   "execution_count": null,
   "metadata": {
    "colab": {
     "base_uri": "https://localhost:8080/"
    },
    "executionInfo": {
     "elapsed": 282,
     "status": "ok",
     "timestamp": 1661621391856,
     "user": {
      "displayName": "Rodrigo Celso de Lima Porto",
      "userId": "00317348114914252656"
     },
     "user_tz": 180
    },
    "id": "7koHGbbMVQ1y",
    "outputId": "1d3d9707-e295-4734-edd0-b982d876c0a9"
   },
   "outputs": [
    {
     "name": "stdout",
     "output_type": "stream",
     "text": [
      "[0, 2, 4, 6, 8, 10, 12, 14, 16, 18, 20, 22, 24, 26, 28, 30, 32, 34, 36, 38, 40, 42, 44, 46, 48, 50, 52, 54, 56, 58, 60, 62, 64, 66, 68, 70, 72, 74, 76, 78, 80, 82, 84, 86, 88, 90, 92, 94, 96, 98, 100]\n"
     ]
    }
   ],
   "source": [
    "def lista_pares(n):\n",
    "  pares = [] # Criamos uma lista vazia\n",
    "\n",
    "  for i in range(n+1):\n",
    "    if i%2 == 0:\n",
    "      pares.append(i)\n",
    "\n",
    "  return pares\n",
    "\n",
    "print(lista_pares(100))"
   ]
  },
  {
   "cell_type": "markdown",
   "metadata": {
    "id": "VrY7vjJAXWG2"
   },
   "source": [
    "<p align=justify>\n",
    "&emsp; Só nesta brincadeira já foram umas 7 linhas de código. Porém, existe um jeito bem mais simples de criar uma lista, que é justamente a sintaxe do <i>List Comprehension</i>, como é mostrado no código a seguir:\n",
    "</p>"
   ]
  },
  {
   "cell_type": "code",
   "execution_count": null,
   "metadata": {
    "colab": {
     "base_uri": "https://localhost:8080/"
    },
    "executionInfo": {
     "elapsed": 315,
     "status": "ok",
     "timestamp": 1661621967144,
     "user": {
      "displayName": "Rodrigo Celso de Lima Porto",
      "userId": "00317348114914252656"
     },
     "user_tz": 180
    },
    "id": "cJLFY9XlYUMV",
    "outputId": "f1416bf3-bb6b-442e-9862-bab04cfdafa4"
   },
   "outputs": [
    {
     "name": "stdout",
     "output_type": "stream",
     "text": [
      "[0, 2, 4, 6, 8, 10, 12, 14, 16, 18, 20, 22, 24, 26, 28, 30, 32, 34, 36, 38, 40, 42, 44, 46, 48, 50, 52, 54, 56, 58, 60, 62, 64, 66, 68, 70, 72, 74, 76, 78, 80, 82, 84, 86, 88, 90, 92, 94, 96, 98, 100]\n"
     ]
    }
   ],
   "source": [
    "def lc_pares(n):\n",
    "  pares = [i for i in range(n+1) if i%2==0] # List Comprehension\n",
    "  return pares\n",
    "\n",
    "print(lc_pares(100))"
   ]
  },
  {
   "cell_type": "markdown",
   "metadata": {
    "id": "P6o39GcvY0ui"
   },
   "source": [
    "<p align=justify>\n",
    "&emsp; Neste caso, quando atribuímos uma lista para dentra da variável <code>pares</code>, estamos colocando uma regra dentro desta lista, que faz uso de um <i>inline</i> <code>for</code> seguido de um <i>inline</i> <code>if</code>, isto é, de um <code>for</code> e de um <code>if</code> que podem ser escritos em uma única linha, sem a necessidade de pular uma linha para criar um escopo reservado para essas estruturas de programação como usualmente é feito no modo tradicional. Essa regra pode ser lida da seguinte forma: \"Crie uma lista em que seja inserida um elemento <code>i</code> para cada <code>i</code> pertencente ao intervalo <code>range(n+1)</code>, em que <code>i</code> satisfaz a condição <code>i%2==0</code>, ou seja, se <code>i</code> for par\".\n",
    "<br>\n",
    "&emsp; Desta forma, as linhas de código reduziram de 7 para 4, tornando o código mais enxuto. E se quisermos ir mais além, podemos ainda combinar <i>List Comprehension</i> com a função <code>lambda</code> para deixar o código ainda mais enxuto.\n",
    "</p>"
   ]
  },
  {
   "cell_type": "code",
   "execution_count": null,
   "metadata": {
    "colab": {
     "base_uri": "https://localhost:8080/"
    },
    "executionInfo": {
     "elapsed": 310,
     "status": "ok",
     "timestamp": 1661622101902,
     "user": {
      "displayName": "Rodrigo Celso de Lima Porto",
      "userId": "00317348114914252656"
     },
     "user_tz": 180
    },
    "id": "kqFyOGXKZH9b",
    "outputId": "76b9acd2-cfb9-4ccf-c18a-941773ab1612"
   },
   "outputs": [
    {
     "name": "stdout",
     "output_type": "stream",
     "text": [
      "[0, 2, 4, 6, 8, 10, 12, 14, 16, 18, 20, 22, 24, 26, 28, 30, 32, 34, 36, 38, 40, 42, 44, 46, 48, 50, 52, 54, 56, 58, 60, 62, 64, 66, 68, 70, 72, 74, 76, 78, 80, 82, 84, 86, 88, 90, 92, 94, 96, 98, 100]\n"
     ]
    }
   ],
   "source": [
    "pares = lambda n: [i for i in range(n+1) if i%2==0]\n",
    "print(pares(100))"
   ]
  },
  {
   "cell_type": "markdown",
   "metadata": {
    "id": "xwX6oAY3duTQ"
   },
   "source": [
    "<p align=justify>\n",
    "&emsp; É ainda possível utilizar o <i>inline</i> <code>for</code> e o <i>inline</i> <code>if</code> dentro de algumas funções nativas do Python, como o <code>sum()</code>, por exemplo. Imaginemos que queremos fazer a soma dos $n$ primeiros números ímpares. No método tradicional, conseguiriamos atingir esse objetivo com o seguinte código:\n",
    "</p>"
   ]
  },
  {
   "cell_type": "code",
   "execution_count": null,
   "metadata": {
    "colab": {
     "base_uri": "https://localhost:8080/"
    },
    "executionInfo": {
     "elapsed": 407,
     "status": "ok",
     "timestamp": 1661623606973,
     "user": {
      "displayName": "Rodrigo Celso de Lima Porto",
      "userId": "00317348114914252656"
     },
     "user_tz": 180
    },
    "id": "8xhHZTOAenrP",
    "outputId": "7f3d1741-a364-45b7-e4bb-d7aca60f41cc"
   },
   "outputs": [
    {
     "name": "stdout",
     "output_type": "stream",
     "text": [
      "100\n"
     ]
    }
   ],
   "source": [
    "def somar_impares(n):\n",
    "  soma = 0\n",
    "\n",
    "  for i in range(2*n+1):\n",
    "    if i%2==1:\n",
    "      soma += i\n",
    "\n",
    "  return soma\n",
    "\n",
    "print(somar_impares(10))"
   ]
  },
  {
   "cell_type": "markdown",
   "metadata": {
    "id": "PhfiGe68fGO-"
   },
   "source": [
    "<p align=justify>\n",
    "&emsp; Agora utilizando o <i>inline</i> <code>for</code> e o <i>inline</i> <code>if</code>, teríamos:\n",
    "</p>"
   ]
  },
  {
   "cell_type": "code",
   "execution_count": null,
   "metadata": {
    "colab": {
     "base_uri": "https://localhost:8080/"
    },
    "executionInfo": {
     "elapsed": 416,
     "status": "ok",
     "timestamp": 1661624202933,
     "user": {
      "displayName": "Rodrigo Celso de Lima Porto",
      "userId": "00317348114914252656"
     },
     "user_tz": 180
    },
    "id": "C8cUX1TdfYnq",
    "outputId": "35e4df32-42f6-4887-ce94-bbab6b51f232"
   },
   "outputs": [
    {
     "name": "stdout",
     "output_type": "stream",
     "text": [
      "100\n"
     ]
    }
   ],
   "source": [
    "soma_imp = lambda n: sum(i for i in range(2*n+1) if i%2==1)\n",
    "print(soma_imp(10))"
   ]
  }
 ],
 "metadata": {
  "kernelspec": {
   "display_name": "Python 3.10.4 64-bit",
   "language": "python",
   "name": "python3"
  },
  "language_info": {
   "codemirror_mode": {
    "name": "ipython",
    "version": 3
   },
   "file_extension": ".py",
   "mimetype": "text/x-python",
   "name": "python",
   "nbconvert_exporter": "python",
   "pygments_lexer": "ipython3",
   "version": "3.10.4"
  },
  "orig_nbformat": 4,
  "vscode": {
   "interpreter": {
    "hash": "369f2c481f4da34e4445cda3fffd2e751bd1c4d706f27375911949ba6bb62e1c"
   }
  }
 },
 "nbformat": 4,
 "nbformat_minor": 2
}
