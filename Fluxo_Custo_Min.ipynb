{
 "cells": [
  {
   "cell_type": "markdown",
   "metadata": {},
   "source": [
    "**TEP-UFF**\n",
    "\n",
    "**Pesquisa Operacional II**\n",
    "\n",
    "Professor: Diogo Ferreira de Lima Silva"
   ]
  },
  {
   "cell_type": "markdown",
   "metadata": {},
   "source": [
    "# Fluxo de Custo Mínimo com o pyomo"
   ]
  },
  {
   "cell_type": "markdown",
   "metadata": {},
   "source": [
    "Primeiro, devemos preparar o nosso ambiente para o uso da biblioteca pyomo. \n",
    "\n",
    "Para isso, executamos os 3 comandos a seguir:"
   ]
  },
  {
   "cell_type": "code",
   "execution_count": 21,
   "metadata": {},
   "outputs": [],
   "source": [
    "import pyomo.environ as pyo\n",
    "from pyomo.environ import *\n",
    "from pyomo.opt import SolverFactory"
   ]
  },
  {
   "cell_type": "markdown",
   "metadata": {},
   "source": [
    "Criando uma instância para um modelo de programação matemática."
   ]
  },
  {
   "cell_type": "code",
   "execution_count": 22,
   "metadata": {},
   "outputs": [],
   "source": [
    "modelo = pyo.ConcreteModel()"
   ]
  },
  {
   "cell_type": "code",
   "execution_count": 23,
   "metadata": {},
   "outputs": [
    {
     "data": {
      "text/plain": [
       "<pyomo.core.base.PyomoModel.ConcreteModel at 0x1c78ec13c80>"
      ]
     },
     "execution_count": 23,
     "metadata": {},
     "output_type": "execute_result"
    }
   ],
   "source": [
    "modelo"
   ]
  },
  {
   "cell_type": "markdown",
   "metadata": {},
   "source": [
    "Agora, vamos definir as variáveis do nosso modelo de otimização linear. O pyomo possui um método específico para isso (pyo.Var).\n",
    "\n",
    "Aproveitando, indicaremos que nossas variáveis são não-negativas."
   ]
  },
  {
   "cell_type": "code",
   "execution_count": 24,
   "metadata": {},
   "outputs": [],
   "source": [
    "AB = modelo.AB = pyo.Var(domain=pyo.NonNegativeReals)\n",
    "AC = modelo.AC = pyo.Var(domain=pyo.NonNegativeReals)\n",
    "AD = modelo.AD = pyo.Var(domain=pyo.NonNegativeReals)\n",
    "BC = modelo.BC = pyo.Var(domain=pyo.NonNegativeReals)\n",
    "CE = modelo.CE = pyo.Var(domain=pyo.NonNegativeReals)\n",
    "DE = modelo.DE = pyo.Var(domain=pyo.NonNegativeReals)\n",
    "ED = modelo.ED = pyo.Var(domain=pyo.NonNegativeReals)"
   ]
  },
  {
   "cell_type": "markdown",
   "metadata": {},
   "source": [
    "A formulação das restrições é realizada de maneira similar. Nesse caso, usaremos o método pyo.Constraint."
   ]
  },
  {
   "cell_type": "code",
   "execution_count": 25,
   "metadata": {},
   "outputs": [],
   "source": [
    "# Restrições de fluxo\n",
    "modelo.R1 = pyo.Constraint(expr= AB + AC + AD == 50)\n",
    "modelo.R2 = pyo.Constraint (expr= -AB + BC == 40)\n",
    "modelo.R3 = pyo.Constraint (expr = -AC - BC + CE == 0)\n",
    "modelo.R4 = pyo.Constraint (expr= - AD + DE - ED == -30)\n",
    "modelo.R5 = pyo.Constraint (expr= - CE - DE + ED == -60)\n",
    "\n",
    "# Restrições de capacidade\n",
    "modelo.R6 = pyo.Constraint (expr= AB  <= 10)\n",
    "modelo.R7 = pyo.Constraint (expr= CE <= 80)"
   ]
  },
  {
   "cell_type": "markdown",
   "metadata": {},
   "source": [
    "A próxima etapa é a definição da função objetivo. Armazenaremos essa definição na variável de ambiente Z"
   ]
  },
  {
   "cell_type": "code",
   "execution_count": 26,
   "metadata": {},
   "outputs": [],
   "source": [
    "# Função objetivo\n",
    "\n",
    "Z = modelo.obj = pyo.Objective(expr= 2 * AB + 4 * AC + 9 * AD + 3 * BC + CE + 3 * DE + 2 * ED, sense = minimize)"
   ]
  },
  {
   "cell_type": "markdown",
   "metadata": {},
   "source": [
    "Nosso modelo está pronto! Agora é só chamar um solver capaz de resolver um modelo de programação linear.\n",
    "\n",
    "Principais opções:\n",
    "\n",
    "- gurobi\n",
    "- cplex\n",
    "- glpk\n"
   ]
  },
  {
   "cell_type": "code",
   "execution_count": 27,
   "metadata": {},
   "outputs": [
    {
     "data": {
      "text/plain": [
       "{'Problem': [{'Name': 'unknown', 'Lower bound': 490.0, 'Upper bound': 490.0, 'Number of objectives': 1, 'Number of constraints': 8, 'Number of variables': 8, 'Number of nonzeros': 17, 'Sense': 'minimize'}], 'Solver': [{'Status': 'ok', 'Termination condition': 'optimal', 'Statistics': {'Branch and bound': {'Number of bounded subproblems': 0, 'Number of created subproblems': 0}}, 'Error rc': 0, 'Time': 0.0339202880859375}], 'Solution': [OrderedDict([('number of solutions', 0), ('number of solutions displayed', 0)])]}"
      ]
     },
     "execution_count": 27,
     "metadata": {},
     "output_type": "execute_result"
    }
   ],
   "source": [
    "# Chamando o solver\n",
    "\n",
    "opt = SolverFactory('glpk')\n",
    "opt.solve(modelo)"
   ]
  },
  {
   "cell_type": "markdown",
   "metadata": {},
   "source": [
    "Agora, podemos imprimir nossos resultados na tela!"
   ]
  },
  {
   "cell_type": "code",
   "execution_count": 28,
   "metadata": {},
   "outputs": [
    {
     "name": "stdout",
     "output_type": "stream",
     "text": [
      "7 Var Declarations\n",
      "    AB : Size=1, Index=None\n",
      "        Key  : Lower : Value : Upper : Fixed : Stale : Domain\n",
      "        None :     0 :   0.0 :  None : False : False : NonNegativeReals\n",
      "    AC : Size=1, Index=None\n",
      "        Key  : Lower : Value : Upper : Fixed : Stale : Domain\n",
      "        None :     0 :  40.0 :  None : False : False : NonNegativeReals\n",
      "    AD : Size=1, Index=None\n",
      "        Key  : Lower : Value : Upper : Fixed : Stale : Domain\n",
      "        None :     0 :  10.0 :  None : False : False : NonNegativeReals\n",
      "    BC : Size=1, Index=None\n",
      "        Key  : Lower : Value : Upper : Fixed : Stale : Domain\n",
      "        None :     0 :  40.0 :  None : False : False : NonNegativeReals\n",
      "    CE : Size=1, Index=None\n",
      "        Key  : Lower : Value : Upper : Fixed : Stale : Domain\n",
      "        None :     0 :  80.0 :  None : False : False : NonNegativeReals\n",
      "    DE : Size=1, Index=None\n",
      "        Key  : Lower : Value : Upper : Fixed : Stale : Domain\n",
      "        None :     0 :   0.0 :  None : False : False : NonNegativeReals\n",
      "    ED : Size=1, Index=None\n",
      "        Key  : Lower : Value : Upper : Fixed : Stale : Domain\n",
      "        None :     0 :  20.0 :  None : False : False : NonNegativeReals\n",
      "\n",
      "1 Objective Declarations\n",
      "    obj : Size=1, Index=None, Active=True\n",
      "        Key  : Active : Sense    : Expression\n",
      "        None :   True : minimize : 2*AB + 4*AC + 9*AD + 3*BC + CE + 3*DE + 2*ED\n",
      "\n",
      "7 Constraint Declarations\n",
      "    R1 : Size=1, Index=None, Active=True\n",
      "        Key  : Lower : Body         : Upper : Active\n",
      "        None :  50.0 : AB + AC + AD :  50.0 :   True\n",
      "    R2 : Size=1, Index=None, Active=True\n",
      "        Key  : Lower : Body      : Upper : Active\n",
      "        None :  40.0 : - AB + BC :  40.0 :   True\n",
      "    R3 : Size=1, Index=None, Active=True\n",
      "        Key  : Lower : Body           : Upper : Active\n",
      "        None :   0.0 : - AC - BC + CE :   0.0 :   True\n",
      "    R4 : Size=1, Index=None, Active=True\n",
      "        Key  : Lower : Body           : Upper : Active\n",
      "        None : -30.0 : - AD + DE - ED : -30.0 :   True\n",
      "    R5 : Size=1, Index=None, Active=True\n",
      "        Key  : Lower : Body           : Upper : Active\n",
      "        None : -60.0 : - CE - DE + ED : -60.0 :   True\n",
      "    R6 : Size=1, Index=None, Active=True\n",
      "        Key  : Lower : Body : Upper : Active\n",
      "        None :  -Inf :   AB :  10.0 :   True\n",
      "    R7 : Size=1, Index=None, Active=True\n",
      "        Key  : Lower : Body : Upper : Active\n",
      "        None :  -Inf :   CE :  80.0 :   True\n",
      "\n",
      "15 Declarations: AB AC AD BC CE DE ED R1 R2 R3 R4 R5 R6 R7 obj\n",
      "\n",
      "---------------------------------------------------------------------\n",
      "x_AB =  0.0\n",
      "x_AC =  40.0\n",
      "x_AD =  10.0\n",
      "x_BC =  40.0\n",
      "x_CE =  80.0\n",
      "x_DE =  0.0\n",
      "x_ED =  20.0\n",
      "Fun��o objetivo =  490.0\n"
     ]
    }
   ],
   "source": [
    "modelo.pprint()\n",
    "\n",
    "print('\\n---------------------------------------------------------------------')\n",
    "print('x_AB = ', pyo.value(AB))\n",
    "print('x_AC = ', pyo.value(AC))\n",
    "print('x_AD = ', pyo.value(AD))\n",
    "print('x_BC = ', pyo.value(BC))\n",
    "print('x_CE = ', pyo.value(CE))\n",
    "print('x_DE = ', pyo.value(DE))\n",
    "print('x_ED = ', pyo.value(ED))\n",
    "print('Função objetivo = ', pyo.value(Z))"
   ]
  }
 ],
 "metadata": {
  "interpreter": {
   "hash": "e4cce46d6be9934fbd27f9ca0432556941ea5bdf741d4f4d64c6cd7f8dfa8fba"
  },
  "kernelspec": {
   "display_name": "Python 3.9.7 ('base')",
   "language": "python",
   "name": "python3"
  },
  "language_info": {
   "codemirror_mode": {
    "name": "ipython",
    "version": 3
   },
   "file_extension": ".py",
   "mimetype": "text/x-python",
   "name": "python",
   "nbconvert_exporter": "python",
   "pygments_lexer": "ipython3",
   "version": "3.9.7"
  },
  "orig_nbformat": 4
 },
 "nbformat": 4,
 "nbformat_minor": 2
}
