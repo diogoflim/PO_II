{
 "cells": [
  {
   "cell_type": "markdown",
   "id": "6c543b20-5cad-4d5c-9a16-7c25c7db9f69",
   "metadata": {},
   "source": [
    "# Leitura de Dados"
   ]
  },
  {
   "cell_type": "code",
   "execution_count": 1,
   "id": "24e7bc84-6cf5-43ac-bf58-a1c0e483497a",
   "metadata": {},
   "outputs": [],
   "source": [
    "import pandas as pd"
   ]
  },
  {
   "cell_type": "code",
   "execution_count": 2,
   "id": "29aa9fa0-92fc-44c4-b13c-ecf1f1f191a6",
   "metadata": {},
   "outputs": [
    {
     "data": {
      "text/html": [
       "<div>\n",
       "<style scoped>\n",
       "    .dataframe tbody tr th:only-of-type {\n",
       "        vertical-align: middle;\n",
       "    }\n",
       "\n",
       "    .dataframe tbody tr th {\n",
       "        vertical-align: top;\n",
       "    }\n",
       "\n",
       "    .dataframe thead th {\n",
       "        text-align: right;\n",
       "    }\n",
       "</style>\n",
       "<table border=\"1\" class=\"dataframe\">\n",
       "  <thead>\n",
       "    <tr style=\"text-align: right;\">\n",
       "      <th></th>\n",
       "      <th>Atlanta</th>\n",
       "      <th>Chicago</th>\n",
       "      <th>NY</th>\n",
       "      <th>Dallas</th>\n",
       "      <th>Capacidade</th>\n",
       "    </tr>\n",
       "  </thead>\n",
       "  <tbody>\n",
       "    <tr>\n",
       "      <th>Planta 1</th>\n",
       "      <td>130</td>\n",
       "      <td>239</td>\n",
       "      <td>256</td>\n",
       "      <td>120</td>\n",
       "      <td>400.0</td>\n",
       "    </tr>\n",
       "    <tr>\n",
       "      <th>Planta 2</th>\n",
       "      <td>225</td>\n",
       "      <td>161</td>\n",
       "      <td>236</td>\n",
       "      <td>288</td>\n",
       "      <td>650.0</td>\n",
       "    </tr>\n",
       "    <tr>\n",
       "      <th>Planta 3</th>\n",
       "      <td>190</td>\n",
       "      <td>123</td>\n",
       "      <td>153</td>\n",
       "      <td>198</td>\n",
       "      <td>500.0</td>\n",
       "    </tr>\n",
       "    <tr>\n",
       "      <th>Demanda</th>\n",
       "      <td>350</td>\n",
       "      <td>400</td>\n",
       "      <td>450</td>\n",
       "      <td>250</td>\n",
       "      <td>NaN</td>\n",
       "    </tr>\n",
       "  </tbody>\n",
       "</table>\n",
       "</div>"
      ],
      "text/plain": [
       "          Atlanta  Chicago   NY  Dallas  Capacidade\n",
       "Planta 1      130      239  256     120       400.0\n",
       "Planta 2      225      161  236     288       650.0\n",
       "Planta 3      190      123  153     198       500.0\n",
       "Demanda       350      400  450     250         NaN"
      ]
     },
     "execution_count": 2,
     "metadata": {},
     "output_type": "execute_result"
    }
   ],
   "source": [
    "dados = pd.read_excel(\"Dados.xlsx\", sheet_name=\"Dados\", index_col=0)\n",
    "dados"
   ]
  },
  {
   "cell_type": "code",
   "execution_count": 5,
   "id": "d40291be-0eda-42b1-9469-08ee207658b4",
   "metadata": {},
   "outputs": [
    {
     "data": {
      "text/plain": [
       "Planta 1    400.0\n",
       "Planta 2    650.0\n",
       "Planta 3    500.0\n",
       "Name: Capacidade, dtype: float64"
      ]
     },
     "execution_count": 5,
     "metadata": {},
     "output_type": "execute_result"
    }
   ],
   "source": [
    "dados.Capacidade.drop(\"Demanda\")"
   ]
  },
  {
   "cell_type": "code",
   "execution_count": 7,
   "id": "1544302a-5775-4987-b2dc-6f8b94c87a1a",
   "metadata": {},
   "outputs": [
    {
     "data": {
      "text/plain": [
       "Planta 1    400.0\n",
       "Planta 2    650.0\n",
       "Planta 3    500.0\n",
       "Name: Capacidade, dtype: float64"
      ]
     },
     "execution_count": 7,
     "metadata": {},
     "output_type": "execute_result"
    }
   ],
   "source": [
    "dados_capacidades = dados.Capacidade.drop(\"Demanda\")\n",
    "dados_capacidades"
   ]
  },
  {
   "cell_type": "code",
   "execution_count": 8,
   "id": "f46384ff-5ede-4dbc-833b-43c5f8bdb1e1",
   "metadata": {},
   "outputs": [
    {
     "data": {
      "text/plain": [
       "Atlanta    350.0\n",
       "Chicago    400.0\n",
       "NY         450.0\n",
       "Dallas     250.0\n",
       "Name: Demanda, dtype: float64"
      ]
     },
     "execution_count": 8,
     "metadata": {},
     "output_type": "execute_result"
    }
   ],
   "source": [
    "dados_demandas = dados.loc[\"Demanda\"].drop(\"Capacidade\")\n",
    "dados_demandas"
   ]
  },
  {
   "cell_type": "code",
   "execution_count": 10,
   "id": "8359aa03-f720-48d9-be84-fe327464ea46",
   "metadata": {},
   "outputs": [
    {
     "name": "stdout",
     "output_type": "stream",
     "text": [
      "Planta 1    400.0\n",
      "Planta 2    650.0\n",
      "Planta 3    500.0\n",
      "Name: Capacidade, dtype: float64\n"
     ]
    }
   ],
   "source": [
    "print(dados_capacidades)"
   ]
  },
  {
   "cell_type": "code",
   "execution_count": 11,
   "id": "cd7d130e-21dc-429d-b626-2234b1a6daf0",
   "metadata": {},
   "outputs": [
    {
     "data": {
      "text/html": [
       "<div>\n",
       "<style scoped>\n",
       "    .dataframe tbody tr th:only-of-type {\n",
       "        vertical-align: middle;\n",
       "    }\n",
       "\n",
       "    .dataframe tbody tr th {\n",
       "        vertical-align: top;\n",
       "    }\n",
       "\n",
       "    .dataframe thead th {\n",
       "        text-align: right;\n",
       "    }\n",
       "</style>\n",
       "<table border=\"1\" class=\"dataframe\">\n",
       "  <thead>\n",
       "    <tr style=\"text-align: right;\">\n",
       "      <th></th>\n",
       "      <th>Atlanta</th>\n",
       "      <th>Chicago</th>\n",
       "      <th>NY</th>\n",
       "      <th>Dallas</th>\n",
       "    </tr>\n",
       "  </thead>\n",
       "  <tbody>\n",
       "    <tr>\n",
       "      <th>Planta 1</th>\n",
       "      <td>130</td>\n",
       "      <td>239</td>\n",
       "      <td>256</td>\n",
       "      <td>120</td>\n",
       "    </tr>\n",
       "    <tr>\n",
       "      <th>Planta 2</th>\n",
       "      <td>225</td>\n",
       "      <td>161</td>\n",
       "      <td>236</td>\n",
       "      <td>288</td>\n",
       "    </tr>\n",
       "    <tr>\n",
       "      <th>Planta 3</th>\n",
       "      <td>190</td>\n",
       "      <td>123</td>\n",
       "      <td>153</td>\n",
       "      <td>198</td>\n",
       "    </tr>\n",
       "  </tbody>\n",
       "</table>\n",
       "</div>"
      ],
      "text/plain": [
       "          Atlanta  Chicago   NY  Dallas\n",
       "Planta 1      130      239  256     120\n",
       "Planta 2      225      161  236     288\n",
       "Planta 3      190      123  153     198"
      ]
     },
     "execution_count": 11,
     "metadata": {},
     "output_type": "execute_result"
    }
   ],
   "source": [
    "dados_custos = dados.iloc[:-1,:-1]\n",
    "dados_custos"
   ]
  },
  {
   "cell_type": "markdown",
   "id": "9411fca5-5f80-4e23-b76e-08f0e780f38e",
   "metadata": {},
   "source": [
    "# Importando o pyomo"
   ]
  },
  {
   "cell_type": "code",
   "execution_count": 12,
   "id": "36b984ad-a748-47fe-9034-30c806b571bc",
   "metadata": {},
   "outputs": [],
   "source": [
    "import pyomo.environ as pyo\n",
    "from pyomo.environ import *\n",
    "from pyomo.opt import SolverFactory"
   ]
  },
  {
   "cell_type": "code",
   "execution_count": 13,
   "id": "32fad9f3-ac52-44ab-8a86-d0edb773f8d7",
   "metadata": {},
   "outputs": [],
   "source": [
    "modelo = pyo.ConcreteModel()"
   ]
  },
  {
   "cell_type": "markdown",
   "id": "7fd23ff8-e928-42e9-9ba2-52be75e3aac3",
   "metadata": {},
   "source": [
    "### Criando Índices"
   ]
  },
  {
   "cell_type": "code",
   "execution_count": 14,
   "id": "0fabbf69-8e5f-46c6-9d4a-17a27ae0ec8d",
   "metadata": {},
   "outputs": [],
   "source": [
    "modelo.i = Set(initialize= dados_custos.index, doc='Plantas')\n",
    "modelo.j = Set(initialize= dados_custos.columns, doc = \"Cidades\")"
   ]
  },
  {
   "cell_type": "markdown",
   "id": "9aaab749-6413-44b2-b975-d2d7a0ffde82",
   "metadata": {},
   "source": [
    "### Criando os parâmetros"
   ]
  },
  {
   "cell_type": "code",
   "execution_count": 15,
   "id": "adaa1866-ea72-4a35-8e29-8df8f6e95424",
   "metadata": {},
   "outputs": [],
   "source": [
    "modelo.capacidades = Param (modelo.i, initialize= dados_capacidades, doc='Capacidades')\n",
    "modelo.demandas = Param(modelo.j, initialize=dados_demandas, doc='Demandas')"
   ]
  },
  {
   "cell_type": "code",
   "execution_count": 17,
   "id": "dde5d5f7-5bf7-48bf-a70d-6d7d650b2b86",
   "metadata": {},
   "outputs": [
    {
     "data": {
      "text/plain": [
       "{('Planta 1', 'Atlanta'): 130,\n",
       " ('Planta 1', 'Chicago'): 239,\n",
       " ('Planta 1', 'NY'): 256,\n",
       " ('Planta 1', 'Dallas'): 120,\n",
       " ('Planta 2', 'Atlanta'): 225,\n",
       " ('Planta 2', 'Chicago'): 161,\n",
       " ('Planta 2', 'NY'): 236,\n",
       " ('Planta 2', 'Dallas'): 288,\n",
       " ('Planta 3', 'Atlanta'): 190,\n",
       " ('Planta 3', 'Chicago'): 123,\n",
       " ('Planta 3', 'NY'): 153,\n",
       " ('Planta 3', 'Dallas'): 198}"
      ]
     },
     "execution_count": 17,
     "metadata": {},
     "output_type": "execute_result"
    }
   ],
   "source": [
    "dicionario_custos = dados_custos.stack().to_dict()\n",
    "dicionario_custos"
   ]
  },
  {
   "cell_type": "code",
   "execution_count": 18,
   "id": "cc4cd83b-e741-44e8-9c27-e975f541c608",
   "metadata": {},
   "outputs": [],
   "source": [
    "modelo.custos = Param(modelo.i, modelo.j, initialize = dicionario_custos, doc='Custos')"
   ]
  },
  {
   "cell_type": "markdown",
   "id": "d62ee8a2-c93f-4e80-b17f-74b56e0afb78",
   "metadata": {},
   "source": [
    "### Criando as Variáveis"
   ]
  },
  {
   "cell_type": "code",
   "execution_count": 19,
   "id": "4e556ed0-cd3e-49e4-98e4-55ce9e6f5444",
   "metadata": {},
   "outputs": [],
   "source": [
    "modelo.x = Var(modelo.i, modelo.j, bounds=(0.0,None), doc='Quantidades Enviadas')"
   ]
  },
  {
   "cell_type": "markdown",
   "id": "308c1ffe-76b5-4b65-be1f-b2b4b7de7ef9",
   "metadata": {},
   "source": [
    "### Criando as Restrições"
   ]
  },
  {
   "cell_type": "code",
   "execution_count": 20,
   "id": "fe8a1e86-5f2f-425d-af88-62c263da802a",
   "metadata": {},
   "outputs": [],
   "source": [
    "def regra_capacidade(modelo, i):\n",
    "    return sum(modelo.x[i,j] for j in modelo.j) <= modelo.capacidades[i]\n",
    "\n",
    "def regra_demanda(modelo, j):\n",
    "    return sum(modelo.x[i,j] for i in modelo.i) >= modelo.demandas[j]\n",
    "\n",
    "\n",
    "modelo.restr_capacidade = Constraint(modelo.i, rule = regra_capacidade)\n",
    "modelo.restr_demanda = Constraint(modelo.j, rule = regra_demanda)\n",
    "\n"
   ]
  },
  {
   "cell_type": "markdown",
   "id": "bfa479b7-2fbe-4a40-b0d3-9f235670e368",
   "metadata": {},
   "source": [
    "### Função Objetivo"
   ]
  },
  {
   "cell_type": "code",
   "execution_count": 21,
   "id": "c7633ca3-5064-4ca6-abb8-af8ce2705570",
   "metadata": {},
   "outputs": [],
   "source": [
    "def custo_total(modelo):\n",
    "    return sum(modelo.custos[i,j] * modelo.x[i,j] for i in modelo.i for j in modelo.j)\n",
    "\n",
    "modelo.Z = Objective(rule=custo_total, sense=minimize) \n"
   ]
  },
  {
   "cell_type": "code",
   "execution_count": 22,
   "id": "e648e759-ed8e-4cc6-aa35-aa1d38e11438",
   "metadata": {},
   "outputs": [
    {
     "data": {
      "text/plain": [
       "{'Problem': [{'Name': 'x13', 'Lower bound': 225850.0, 'Upper bound': 225850.0, 'Number of objectives': 1, 'Number of constraints': 8, 'Number of variables': 13, 'Number of binary variables': 0, 'Number of integer variables': 0, 'Number of continuous variables': 13, 'Number of nonzeros': 25, 'Sense': 'minimize'}], 'Solver': [{'Status': 'ok', 'Return code': '0', 'Message': 'Model was solved to optimality (subject to tolerances), and an optimal solution is available.', 'Termination condition': 'optimal', 'Termination message': 'Model was solved to optimality (subject to tolerances), and an optimal solution is available.', 'Wall time': '0.06838417053222656', 'Error rc': 0, 'Time': 1.154653787612915}], 'Solution': [OrderedDict([('number of solutions', 0), ('number of solutions displayed', 0)])]}"
      ]
     },
     "execution_count": 22,
     "metadata": {},
     "output_type": "execute_result"
    }
   ],
   "source": [
    "opt = SolverFactory(\"gurobi\")\n",
    "opt.solve(modelo)"
   ]
  },
  {
   "cell_type": "code",
   "execution_count": 23,
   "id": "137eb6a0-1b27-40f2-b42b-e5c2f698303d",
   "metadata": {},
   "outputs": [
    {
     "name": "stdout",
     "output_type": "stream",
     "text": [
      "x[Planta 1,Atlanta] 150.0\n",
      "x[Planta 1,Chicago] 0.0\n",
      "x[Planta 1,NY] 0.0\n",
      "x[Planta 1,Dallas] 250.0\n",
      "x[Planta 2,Atlanta] 200.0\n",
      "x[Planta 2,Chicago] 350.0\n",
      "x[Planta 2,NY] 0.0\n",
      "x[Planta 2,Dallas] 0.0\n",
      "x[Planta 3,Atlanta] 0.0\n",
      "x[Planta 3,Chicago] 50.0\n",
      "x[Planta 3,NY] 450.0\n",
      "x[Planta 3,Dallas] 0.0\n",
      "O valor ótimo encontrado foi: R$ 225850.0\n"
     ]
    }
   ],
   "source": [
    "for v in modelo.component_data_objects(Var):\n",
    "    print (str(v), v.value)\n",
    "    \n",
    "print(\"O valor ótimo encontrado foi: R$\", modelo.Z())"
   ]
  },
  {
   "cell_type": "code",
   "execution_count": null,
   "id": "c311e885-cb6a-448f-b289-f50b7b54cb24",
   "metadata": {},
   "outputs": [],
   "source": []
  }
 ],
 "metadata": {
  "kernelspec": {
   "display_name": "Python 3 (ipykernel)",
   "language": "python",
   "name": "python3"
  },
  "language_info": {
   "codemirror_mode": {
    "name": "ipython",
    "version": 3
   },
   "file_extension": ".py",
   "mimetype": "text/x-python",
   "name": "python",
   "nbconvert_exporter": "python",
   "pygments_lexer": "ipython3",
   "version": "3.9.7"
  }
 },
 "nbformat": 4,
 "nbformat_minor": 5
}
