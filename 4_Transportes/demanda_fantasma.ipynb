{
 "cells": [
  {
   "cell_type": "markdown",
   "metadata": {},
   "source": [
    "[![Open In Colab](https://colab.research.google.com/assets/colab-badge.svg)](https://colab.research.google.com/github/diogoflim/PO_II/blob/main/4_Transportes/demanda_fantasma.ipynb)"
   ]
  },
  {
   "cell_type": "markdown",
   "metadata": {},
   "source": [
    "## **Pesquisa Operacional II**\n",
    "\n",
    "**Prof. Diogo Ferreira de Lima Silva (TEP-UFF)**"
   ]
  },
  {
   "cell_type": "markdown",
   "metadata": {},
   "source": [
    "## Modelando um Problema dos Transportes com capacidade ociosa"
   ]
  },
  {
   "cell_type": "code",
   "execution_count": null,
   "metadata": {},
   "outputs": [],
   "source": [
    "#Execute esse bloco caso esteja executando no Google Colab\n",
    "!pip install -q pyomo\n",
    "!pip install -i https://pypi.gurobi.com gurobipy"
   ]
  },
  {
   "cell_type": "code",
   "execution_count": 29,
   "metadata": {},
   "outputs": [],
   "source": [
    "import pandas as pd\n",
    "import numpy as np\n",
    "import pyomo.environ as pyo"
   ]
  },
  {
   "cell_type": "code",
   "execution_count": 30,
   "metadata": {},
   "outputs": [
    {
     "data": {
      "text/html": [
       "<div>\n",
       "<style scoped>\n",
       "    .dataframe tbody tr th:only-of-type {\n",
       "        vertical-align: middle;\n",
       "    }\n",
       "\n",
       "    .dataframe tbody tr th {\n",
       "        vertical-align: top;\n",
       "    }\n",
       "\n",
       "    .dataframe thead th {\n",
       "        text-align: right;\n",
       "    }\n",
       "</style>\n",
       "<table border=\"1\" class=\"dataframe\">\n",
       "  <thead>\n",
       "    <tr style=\"text-align: right;\">\n",
       "      <th></th>\n",
       "      <th>mes_1</th>\n",
       "      <th>mes_2</th>\n",
       "      <th>mes_3</th>\n",
       "      <th>mes_4</th>\n",
       "    </tr>\n",
       "  </thead>\n",
       "  <tbody>\n",
       "    <tr>\n",
       "      <th>mes_1</th>\n",
       "      <td>1080</td>\n",
       "      <td>1095</td>\n",
       "      <td>1110</td>\n",
       "      <td>1125</td>\n",
       "    </tr>\n",
       "    <tr>\n",
       "      <th>mes_2</th>\n",
       "      <td>9999999</td>\n",
       "      <td>1110</td>\n",
       "      <td>1125</td>\n",
       "      <td>1140</td>\n",
       "    </tr>\n",
       "    <tr>\n",
       "      <th>mes_3</th>\n",
       "      <td>9999999</td>\n",
       "      <td>9999999</td>\n",
       "      <td>1100</td>\n",
       "      <td>1115</td>\n",
       "    </tr>\n",
       "    <tr>\n",
       "      <th>mes_4</th>\n",
       "      <td>9999999</td>\n",
       "      <td>9999999</td>\n",
       "      <td>9999999</td>\n",
       "      <td>1130</td>\n",
       "    </tr>\n",
       "  </tbody>\n",
       "</table>\n",
       "</div>"
      ],
      "text/plain": [
       "         mes_1    mes_2    mes_3  mes_4\n",
       "mes_1     1080     1095     1110   1125\n",
       "mes_2  9999999     1110     1125   1140\n",
       "mes_3  9999999  9999999     1100   1115\n",
       "mes_4  9999999  9999999  9999999   1130"
      ]
     },
     "execution_count": 30,
     "metadata": {},
     "output_type": "execute_result"
    }
   ],
   "source": [
    "origens = ['mes_1', 'mes_2', 'mes_3','mes_4']      # Nome das fábricas.\n",
    "destinos = ['mes_1', 'mes_2', 'mes_3','mes_4'] # Nome dos centros de distribuição.\n",
    "\n",
    "custos_dataframe = pd.DataFrame ([ [1080, 1095, 1110, 1125], # F1\n",
    "                                    [9999999, 1110, 1125, 1140], # F2\n",
    "                                    [9999999, 9999999, 1100, 1115],\n",
    "                                    [9999999, 9999999, 9999999, 1130]], index = origens, columns= destinos)\n",
    "\n",
    "custos_dataframe"
   ]
  },
  {
   "cell_type": "code",
   "execution_count": 31,
   "metadata": {},
   "outputs": [],
   "source": [
    "ofertas = [25, 35, 30, 10]\n",
    "demandas = [10, 15, 25, 20]\n",
    "custos = np.array(custos_dataframe) # Passando os custos para uma matriz do numpy"
   ]
  },
  {
   "cell_type": "code",
   "execution_count": 43,
   "metadata": {},
   "outputs": [],
   "source": [
    "modelo = pyo.ConcreteModel() # Criando uma instância do modelo\n",
    "\n",
    "# Criando dois índices para serem usados no pyomo\n",
    "I = modelo.I = pyo.RangeSet(len(ofertas)) # Índice para as fábricas\n",
    "J = modelo.J = pyo.RangeSet(len(demandas)) # Índice para os centros de distribuição\n",
    "\n",
    "# VARIÁVEIS DE DECISÃO\n",
    "x = modelo.x = pyo.Var(I, J, within= pyo.NonNegativeReals)\n",
    "\n",
    "# Custos de transporte da fábrica i para o centro de dsitribuição j\n",
    "c = modelo.c = pyo.Param(I, J, initialize = lambda modelo, i, j: custos[i-1, j-1])\n",
    "\n",
    "# Capacidade de cada fábrica\n",
    "a = modelo.a = pyo.Param (I, initialize = lambda modelo, i: ofertas[i-1])\n",
    "\n",
    "# Demanda de cada centro de distribuição\n",
    "b = modelo.b = pyo.Param (J, initialize = lambda modelo, j: demandas[j-1])\n",
    "\n",
    "# FUNÇÃO OBJETIVO\n",
    "z = modelo.z = pyo.Objective(rule= lambda modelo: sum(x[i,j] * c[i,j] for i in I for j in J), sense= pyo.minimize)\n",
    "\n",
    "# RESTRIÇÕES\n",
    "# R1: O total de remessas despachada por cada fábrica não pode ser maior que a sua oferta.\n",
    "modelo.R1 = pyo.Constraint(I, rule= lambda modelo, i: sum(x[i, j] for j in J) <= a[i])\n",
    "\n",
    "# R2: Cada centro de distribuição deve ter a sua demanda atendida\n",
    "modelo.R2 = pyo.Constraint(J, rule= lambda modelo, j: sum(x[i, j] for i in I) >= b[j])\n",
    "\n",
    "# RESOLUÇÃO DO MODELO\n",
    "gurobi = pyo.SolverFactory('gurobi') # Construindo o solver gurobi\n",
    "resultado = gurobi.solve(modelo) # Armazenando o resultado"
   ]
  },
  {
   "cell_type": "code",
   "execution_count": 44,
   "metadata": {},
   "outputs": [
    {
     "data": {
      "text/plain": [
       "77300.0"
      ]
     },
     "execution_count": 44,
     "metadata": {},
     "output_type": "execute_result"
    }
   ],
   "source": [
    "pyo.value(z)"
   ]
  },
  {
   "cell_type": "code",
   "execution_count": 45,
   "metadata": {},
   "outputs": [
    {
     "name": "stdout",
     "output_type": "stream",
     "text": [
      "x_(1, 1) = 10.0\n",
      "x_(1, 2) = 10.0\n",
      "x_(1, 3) = 0.0\n",
      "x_(1, 4) = 5.0\n",
      "x_(2, 1) = 0.0\n",
      "x_(2, 2) = 5.0\n",
      "x_(2, 3) = 0.0\n",
      "x_(2, 4) = 0.0\n",
      "x_(3, 1) = 0.0\n",
      "x_(3, 2) = 0.0\n",
      "x_(3, 3) = 25.0\n",
      "x_(3, 4) = 5.0\n",
      "x_(4, 1) = 0.0\n",
      "x_(4, 2) = 0.0\n",
      "x_(4, 3) = 0.0\n",
      "x_(4, 4) = 10.0\n"
     ]
    }
   ],
   "source": [
    "for k in x.keys(): print (f\"x_{k} = {pyo.value(x[k])}\")"
   ]
  },
  {
   "cell_type": "markdown",
   "metadata": {},
   "source": [
    "Perceba que chegamos a um ótimo, mesmo com uma demanda total diferente da oferta total! \n",
    "\n",
    "Isso ocorre porque conseguimos atender as demandas (temos capacidade ociosa). Em nossa restrição de demanda usamos (>=) e não obrigamos a igualdade (==).\n",
    "\n",
    "Vamos adicionar restrições de igualdade para a oferta e para a demanda. Assim, não encontraremos uma solução viável! Não temos capacidade para isso."
   ]
  },
  {
   "cell_type": "code",
   "execution_count": 46,
   "metadata": {},
   "outputs": [],
   "source": [
    "modelo = pyo.ConcreteModel() # Criando uma instância do modelo\n",
    "\n",
    "# Criando dois índices para serem usados no pyomo\n",
    "I = modelo.I = pyo.RangeSet(len(ofertas)) # Índice para as fábricas\n",
    "J = modelo.J = pyo.RangeSet(len(demandas)) # Índice para os centros de distribuição\n",
    "\n",
    "# VARIÁVEIS DE DECISÃO\n",
    "x = modelo.x = pyo.Var(I, J, within= pyo.NonNegativeReals)\n",
    "\n",
    "# Custos de transporte da fábrica i para o centro de dsitribuição j\n",
    "c = modelo.c = pyo.Param(I, J, initialize = lambda modelo, i, j: custos[i-1, j-1])\n",
    "\n",
    "# Capacidade de cada fábrica\n",
    "a = modelo.a = pyo.Param (I, initialize = lambda modelo, i: ofertas[i-1])\n",
    "\n",
    "# Demanda de cada centro de distribuição\n",
    "b = modelo.b = pyo.Param (J, initialize = lambda modelo, j: demandas[j-1])\n",
    "\n",
    "# FUNÇÃO OBJETIVO\n",
    "z = modelo.z = pyo.Objective(rule= lambda modelo: sum(x[i,j] * c[i,j] for i in I for j in J), sense= pyo.minimize)\n",
    "\n",
    "# RESTRIÇÕES\n",
    "# R1: O total de remessas despachada por cada fábrica não pode ser maior que a sua oferta.\n",
    "modelo.R1 = pyo.Constraint(I, rule= lambda modelo, i: sum(x[i, j] for j in J) == a[i])\n",
    "\n",
    "# R2: Cada centro de distribuição deve ter a sua demanda atendida\n",
    "modelo.R2 = pyo.Constraint(J, rule= lambda modelo, j: sum(x[i, j] for i in I) == b[j])\n",
    "\n",
    "# RESOLUÇÃO DO MODELO\n",
    "gurobi = pyo.SolverFactory('gurobi') # Construindo o solver gurobi\n",
    "resultado = gurobi.solve(modelo) # Armazenando o resultado"
   ]
  },
  {
   "cell_type": "code",
   "execution_count": 47,
   "metadata": {},
   "outputs": [
    {
     "name": "stdout",
     "output_type": "stream",
     "text": [
      "ERROR: evaluating object as numeric value: x[1,1]\n",
      "        (object: <class 'pyomo.core.base.var._GeneralVarData'>)\n",
      "    No value for uninitialized NumericValue object x[1,1]\n",
      "ERROR: evaluating object as numeric value: z\n",
      "        (object: <class 'pyomo.core.base.objective.ScalarObjective'>)\n",
      "    No value for uninitialized NumericValue object x[1,1]\n"
     ]
    },
    {
     "ename": "ValueError",
     "evalue": "No value for uninitialized NumericValue object x[1,1]",
     "output_type": "error",
     "traceback": [
      "\u001b[1;31m---------------------------------------------------------------------------\u001b[0m",
      "\u001b[1;31mValueError\u001b[0m                                Traceback (most recent call last)",
      "\u001b[1;32m~\\AppData\\Local\\Temp/ipykernel_14600/2068255669.py\u001b[0m in \u001b[0;36m<module>\u001b[1;34m\u001b[0m\n\u001b[1;32m----> 1\u001b[1;33m \u001b[0mpyo\u001b[0m\u001b[1;33m.\u001b[0m\u001b[0mvalue\u001b[0m\u001b[1;33m(\u001b[0m\u001b[0mz\u001b[0m\u001b[1;33m)\u001b[0m\u001b[1;33m\u001b[0m\u001b[1;33m\u001b[0m\u001b[0m\n\u001b[0m",
      "\u001b[1;32mpyomo\\core\\expr\\numvalue.pyx\u001b[0m in \u001b[0;36mpyomo.core.expr.numvalue.value\u001b[1;34m()\u001b[0m\n",
      "\u001b[1;32mpyomo\\core\\expr\\numvalue.pyx\u001b[0m in \u001b[0;36mpyomo.core.expr.numvalue.value\u001b[1;34m()\u001b[0m\n",
      "\u001b[1;32mc:\\Anaconda3\\lib\\site-packages\\pyomo\\core\\base\\expression.py\u001b[0m in \u001b[0;36m__call__\u001b[1;34m(self, exception)\u001b[0m\n\u001b[0;32m     52\u001b[0m         \u001b[1;32mif\u001b[0m \u001b[0mself\u001b[0m\u001b[1;33m.\u001b[0m\u001b[0mexpr\u001b[0m \u001b[1;32mis\u001b[0m \u001b[1;32mNone\u001b[0m\u001b[1;33m:\u001b[0m\u001b[1;33m\u001b[0m\u001b[1;33m\u001b[0m\u001b[0m\n\u001b[0;32m     53\u001b[0m             \u001b[1;32mreturn\u001b[0m \u001b[1;32mNone\u001b[0m\u001b[1;33m\u001b[0m\u001b[1;33m\u001b[0m\u001b[0m\n\u001b[1;32m---> 54\u001b[1;33m         \u001b[1;32mreturn\u001b[0m \u001b[0mself\u001b[0m\u001b[1;33m.\u001b[0m\u001b[0mexpr\u001b[0m\u001b[1;33m(\u001b[0m\u001b[0mexception\u001b[0m\u001b[1;33m=\u001b[0m\u001b[0mexception\u001b[0m\u001b[1;33m)\u001b[0m\u001b[1;33m\u001b[0m\u001b[1;33m\u001b[0m\u001b[0m\n\u001b[0m\u001b[0;32m     55\u001b[0m \u001b[1;33m\u001b[0m\u001b[0m\n\u001b[0;32m     56\u001b[0m     \u001b[1;32mdef\u001b[0m \u001b[0mis_named_expression_type\u001b[0m\u001b[1;33m(\u001b[0m\u001b[0mself\u001b[0m\u001b[1;33m)\u001b[0m\u001b[1;33m:\u001b[0m\u001b[1;33m\u001b[0m\u001b[1;33m\u001b[0m\u001b[0m\n",
      "\u001b[1;32mpyomo\\core\\expr\\numeric_expr.pyx\u001b[0m in \u001b[0;36mpyomo.core.expr.numeric_expr.ExpressionBase.__call__\u001b[1;34m()\u001b[0m\n",
      "\u001b[1;32mc:\\Anaconda3\\lib\\site-packages\\pyomo\\core\\expr\\visitor.py\u001b[0m in \u001b[0;36mevaluate_expression\u001b[1;34m(exp, exception, constant)\u001b[0m\n\u001b[0;32m    890\u001b[0m         \u001b[0mvisitor\u001b[0m \u001b[1;33m=\u001b[0m \u001b[0m_EvaluationVisitor\u001b[0m\u001b[1;33m(\u001b[0m\u001b[0mexception\u001b[0m\u001b[1;33m=\u001b[0m\u001b[0mexception\u001b[0m\u001b[1;33m)\u001b[0m\u001b[1;33m\u001b[0m\u001b[1;33m\u001b[0m\u001b[0m\n\u001b[0;32m    891\u001b[0m     \u001b[1;32mtry\u001b[0m\u001b[1;33m:\u001b[0m\u001b[1;33m\u001b[0m\u001b[1;33m\u001b[0m\u001b[0m\n\u001b[1;32m--> 892\u001b[1;33m         \u001b[1;32mreturn\u001b[0m \u001b[0mvisitor\u001b[0m\u001b[1;33m.\u001b[0m\u001b[0mdfs_postorder_stack\u001b[0m\u001b[1;33m(\u001b[0m\u001b[0mexp\u001b[0m\u001b[1;33m)\u001b[0m\u001b[1;33m\u001b[0m\u001b[1;33m\u001b[0m\u001b[0m\n\u001b[0m\u001b[0;32m    893\u001b[0m \u001b[1;33m\u001b[0m\u001b[0m\n\u001b[0;32m    894\u001b[0m     except ( TemplateExpressionError, ValueError, TypeError,\n",
      "\u001b[1;32mc:\\Anaconda3\\lib\\site-packages\\pyomo\\core\\expr\\visitor.py\u001b[0m in \u001b[0;36mdfs_postorder_stack\u001b[1;34m(self, node)\u001b[0m\n\u001b[0;32m    572\u001b[0m                 \u001b[0m_sub\u001b[0m \u001b[1;33m=\u001b[0m \u001b[0m_argList\u001b[0m\u001b[1;33m[\u001b[0m\u001b[0m_idx\u001b[0m\u001b[1;33m]\u001b[0m\u001b[1;33m\u001b[0m\u001b[1;33m\u001b[0m\u001b[0m\n\u001b[0;32m    573\u001b[0m                 \u001b[0m_idx\u001b[0m \u001b[1;33m+=\u001b[0m \u001b[1;36m1\u001b[0m\u001b[1;33m\u001b[0m\u001b[1;33m\u001b[0m\u001b[0m\n\u001b[1;32m--> 574\u001b[1;33m                 \u001b[0mflag\u001b[0m\u001b[1;33m,\u001b[0m \u001b[0mvalue\u001b[0m \u001b[1;33m=\u001b[0m \u001b[0mself\u001b[0m\u001b[1;33m.\u001b[0m\u001b[0mvisiting_potential_leaf\u001b[0m\u001b[1;33m(\u001b[0m\u001b[0m_sub\u001b[0m\u001b[1;33m)\u001b[0m\u001b[1;33m\u001b[0m\u001b[1;33m\u001b[0m\u001b[0m\n\u001b[0m\u001b[0;32m    575\u001b[0m                 \u001b[1;32mif\u001b[0m \u001b[0mflag\u001b[0m\u001b[1;33m:\u001b[0m\u001b[1;33m\u001b[0m\u001b[1;33m\u001b[0m\u001b[0m\n\u001b[0;32m    576\u001b[0m                     \u001b[0m_result\u001b[0m\u001b[1;33m.\u001b[0m\u001b[0mappend\u001b[0m\u001b[1;33m(\u001b[0m \u001b[0mvalue\u001b[0m \u001b[1;33m)\u001b[0m\u001b[1;33m\u001b[0m\u001b[1;33m\u001b[0m\u001b[0m\n",
      "\u001b[1;32mc:\\Anaconda3\\lib\\site-packages\\pyomo\\core\\expr\\visitor.py\u001b[0m in \u001b[0;36mvisiting_potential_leaf\u001b[1;34m(self, node)\u001b[0m\n\u001b[0;32m    800\u001b[0m \u001b[1;33m\u001b[0m\u001b[0m\n\u001b[0;32m    801\u001b[0m         \u001b[1;32mif\u001b[0m \u001b[0mnode\u001b[0m\u001b[1;33m.\u001b[0m\u001b[0mis_numeric_type\u001b[0m\u001b[1;33m(\u001b[0m\u001b[1;33m)\u001b[0m\u001b[1;33m:\u001b[0m\u001b[1;33m\u001b[0m\u001b[1;33m\u001b[0m\u001b[0m\n\u001b[1;32m--> 802\u001b[1;33m             \u001b[1;32mreturn\u001b[0m \u001b[1;32mTrue\u001b[0m\u001b[1;33m,\u001b[0m \u001b[0mvalue\u001b[0m\u001b[1;33m(\u001b[0m\u001b[0mnode\u001b[0m\u001b[1;33m,\u001b[0m \u001b[0mexception\u001b[0m\u001b[1;33m=\u001b[0m\u001b[0mself\u001b[0m\u001b[1;33m.\u001b[0m\u001b[0mexception\u001b[0m\u001b[1;33m)\u001b[0m\u001b[1;33m\u001b[0m\u001b[1;33m\u001b[0m\u001b[0m\n\u001b[0m\u001b[0;32m    803\u001b[0m         \u001b[1;32melif\u001b[0m \u001b[0mnode\u001b[0m\u001b[1;33m.\u001b[0m\u001b[0mis_logical_type\u001b[0m\u001b[1;33m(\u001b[0m\u001b[1;33m)\u001b[0m\u001b[1;33m:\u001b[0m\u001b[1;33m\u001b[0m\u001b[1;33m\u001b[0m\u001b[0m\n\u001b[0;32m    804\u001b[0m             \u001b[1;32mreturn\u001b[0m \u001b[1;32mTrue\u001b[0m\u001b[1;33m,\u001b[0m \u001b[0mvalue\u001b[0m\u001b[1;33m(\u001b[0m\u001b[0mnode\u001b[0m\u001b[1;33m,\u001b[0m \u001b[0mexception\u001b[0m\u001b[1;33m=\u001b[0m\u001b[0mself\u001b[0m\u001b[1;33m.\u001b[0m\u001b[0mexception\u001b[0m\u001b[1;33m)\u001b[0m\u001b[1;33m\u001b[0m\u001b[1;33m\u001b[0m\u001b[0m\n",
      "\u001b[1;32mpyomo\\core\\expr\\numvalue.pyx\u001b[0m in \u001b[0;36mpyomo.core.expr.numvalue.value\u001b[1;34m()\u001b[0m\n",
      "\u001b[1;32mpyomo\\core\\expr\\numvalue.pyx\u001b[0m in \u001b[0;36mpyomo.core.expr.numvalue.value\u001b[1;34m()\u001b[0m\n",
      "\u001b[1;31mValueError\u001b[0m: No value for uninitialized NumericValue object x[1,1]"
     ]
    }
   ],
   "source": [
    "pyo.value(z)"
   ]
  },
  {
   "cell_type": "code",
   "execution_count": 48,
   "metadata": {},
   "outputs": [
    {
     "name": "stdout",
     "output_type": "stream",
     "text": [
      "ERROR: evaluating object as numeric value: x[1,1]\n",
      "        (object: <class 'pyomo.core.base.var._GeneralVarData'>)\n",
      "    No value for uninitialized NumericValue object x[1,1]\n"
     ]
    },
    {
     "ename": "ValueError",
     "evalue": "No value for uninitialized NumericValue object x[1,1]",
     "output_type": "error",
     "traceback": [
      "\u001b[1;31m---------------------------------------------------------------------------\u001b[0m",
      "\u001b[1;31mValueError\u001b[0m                                Traceback (most recent call last)",
      "\u001b[1;32m~\\AppData\\Local\\Temp/ipykernel_14600/436181465.py\u001b[0m in \u001b[0;36m<module>\u001b[1;34m\u001b[0m\n\u001b[1;32m----> 1\u001b[1;33m \u001b[1;32mfor\u001b[0m \u001b[0mk\u001b[0m \u001b[1;32min\u001b[0m \u001b[0mx\u001b[0m\u001b[1;33m.\u001b[0m\u001b[0mkeys\u001b[0m\u001b[1;33m(\u001b[0m\u001b[1;33m)\u001b[0m\u001b[1;33m:\u001b[0m \u001b[0mprint\u001b[0m \u001b[1;33m(\u001b[0m\u001b[1;34mf\"x_{k} = {pyo.value(x[k])}\"\u001b[0m\u001b[1;33m)\u001b[0m\u001b[1;33m\u001b[0m\u001b[1;33m\u001b[0m\u001b[0m\n\u001b[0m",
      "\u001b[1;32mpyomo\\core\\expr\\numvalue.pyx\u001b[0m in \u001b[0;36mpyomo.core.expr.numvalue.value\u001b[1;34m()\u001b[0m\n",
      "\u001b[1;32mpyomo\\core\\expr\\numvalue.pyx\u001b[0m in \u001b[0;36mpyomo.core.expr.numvalue.value\u001b[1;34m()\u001b[0m\n",
      "\u001b[1;31mValueError\u001b[0m: No value for uninitialized NumericValue object x[1,1]"
     ]
    }
   ],
   "source": [
    "for k in x.keys(): print (f\"x_{k} = {pyo.value(x[k])}\")"
   ]
  },
  {
   "cell_type": "code",
   "execution_count": null,
   "metadata": {},
   "outputs": [],
   "source": []
  }
 ],
 "metadata": {
  "kernelspec": {
   "display_name": "Python 3.9.7 ('base')",
   "language": "python",
   "name": "python3"
  },
  "language_info": {
   "codemirror_mode": {
    "name": "ipython",
    "version": 3
   },
   "file_extension": ".py",
   "mimetype": "text/x-python",
   "name": "python",
   "nbconvert_exporter": "python",
   "pygments_lexer": "ipython3",
   "version": "3.9.7"
  },
  "orig_nbformat": 4,
  "vscode": {
   "interpreter": {
    "hash": "e4cce46d6be9934fbd27f9ca0432556941ea5bdf741d4f4d64c6cd7f8dfa8fba"
   }
  }
 },
 "nbformat": 4,
 "nbformat_minor": 2
}
