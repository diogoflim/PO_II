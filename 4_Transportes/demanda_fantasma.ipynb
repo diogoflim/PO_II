{
 "cells": [
  {
   "cell_type": "markdown",
   "metadata": {},
   "source": [
    "[![Open In Colab](https://colab.research.google.com/assets/colab-badge.svg)](https://colab.research.google.com/github/diogoflim/PO_II/blob/main/4_Transportes/demanda_fantasma.ipynb)"
   ]
  },
  {
   "cell_type": "markdown",
   "metadata": {},
   "source": [
    "## **Pesquisa Operacional II**\n",
    "\n",
    "**Prof. Diogo Ferreira de Lima Silva (TEP-UFF)**"
   ]
  },
  {
   "cell_type": "markdown",
   "metadata": {},
   "source": [
    "## Modelando um Problema dos Transportes com capacidade ociosa"
   ]
  },
  {
   "cell_type": "code",
   "execution_count": null,
   "metadata": {},
   "outputs": [],
   "source": [
    "#Execute esse bloco caso esteja executando no Google Colab\n",
    "!pip install -q pyomo\n",
    "!pip install -i https://pypi.gurobi.com gurobipy"
   ]
  },
  {
   "cell_type": "code",
   "execution_count": null,
   "metadata": {},
   "outputs": [],
   "source": [
    "import pandas as pd\n",
    "import numpy as np\n",
    "import pyomo.environ as pyo"
   ]
  },
  {
   "cell_type": "code",
   "execution_count": null,
   "metadata": {},
   "outputs": [],
   "source": [
    "origens = ['mes_1', 'mes_2', 'mes_3','mes_4']      # Nome das fábricas.\n",
    "destinos = ['mes_1', 'mes_2', 'mes_3','mes_4'] # Nome dos centros de distribuição.\n",
    "\n",
    "custos_dataframe = pd.DataFrame ([ [1080, 1095, 1110, 1125], # F1\n",
    "                                    [9999999, 1110, 1125, 1140], # F2\n",
    "                                    [9999999, 9999999, 1100, 1115],\n",
    "                                    [9999999, 9999999, 9999999, 1130]], index = origens, columns= destinos)\n",
    "\n",
    "custos_dataframe"
   ]
  },
  {
   "cell_type": "code",
   "execution_count": null,
   "metadata": {},
   "outputs": [],
   "source": [
    "ofertas = [25, 35, 30, 10]\n",
    "demandas = [10, 15, 25, 20]\n",
    "custos = np.array(custos_dataframe) # Passando os custos para uma matriz do numpy"
   ]
  },
  {
   "cell_type": "code",
   "execution_count": null,
   "metadata": {},
   "outputs": [],
   "source": [
    "modelo = pyo.ConcreteModel() # Criando uma instância do modelo\n",
    "\n",
    "# Criando dois índices para serem usados no pyomo\n",
    "I = modelo.I = pyo.RangeSet(len(ofertas)) # Índice para as fábricas\n",
    "J = modelo.J = pyo.RangeSet(len(demandas)) # Índice para os centros de distribuição\n",
    "\n",
    "# VARIÁVEIS DE DECISÃO\n",
    "x = modelo.x = pyo.Var(I, J, within= pyo.NonNegativeReals)\n",
    "\n",
    "# Custos de transporte da fábrica i para o centro de dsitribuição j\n",
    "c = modelo.c = pyo.Param(I, J, initialize = lambda modelo, i, j: custos[i-1, j-1])\n",
    "\n",
    "# Capacidade de cada fábrica\n",
    "a = modelo.a = pyo.Param (I, initialize = lambda modelo, i: ofertas[i-1])\n",
    "\n",
    "# Demanda de cada centro de distribuição\n",
    "b = modelo.b = pyo.Param (J, initialize = lambda modelo, j: demandas[j-1])\n",
    "\n",
    "# FUNÇÃO OBJETIVO\n",
    "z = modelo.z = pyo.Objective(rule= lambda modelo: sum(x[i,j] * c[i,j] for i in I for j in J), sense= pyo.minimize)\n",
    "\n",
    "# RESTRIÇÕES\n",
    "# R1: O total de remessas despachada por cada fábrica não pode ser maior que a sua oferta.\n",
    "modelo.R1 = pyo.Constraint(I, rule= lambda modelo, i: sum(x[i, j] for j in J) <= a[i])\n",
    "\n",
    "# R2: Cada centro de distribuição deve ter a sua demanda atendida\n",
    "modelo.R2 = pyo.Constraint(J, rule= lambda modelo, j: sum(x[i, j] for i in I) >= b[j])\n",
    "\n",
    "# RESOLUÇÃO DO MODELO\n",
    "gurobi = pyo.SolverFactory('gurobi') # Construindo o solver gurobi\n",
    "resultado = gurobi.solve(modelo) # Armazenando o resultado"
   ]
  },
  {
   "cell_type": "code",
   "execution_count": null,
   "metadata": {},
   "outputs": [],
   "source": [
    "pyo.value(z)"
   ]
  },
  {
   "cell_type": "code",
   "execution_count": null,
   "metadata": {},
   "outputs": [],
   "source": [
    "for k in x.keys(): print (f\"x_{k} = {pyo.value(x[k])}\")"
   ]
  },
  {
   "cell_type": "markdown",
   "metadata": {},
   "source": [
    "Perceba que chegamos a um ótimo, mesmo com uma demanda total diferente da oferta total! \n",
    "\n",
    "Isso ocorre porque conseguimos atender as demandas (temos capacidade ociosa). Em nossa restrição de demanda usamos (>=) e não obrigamos a igualdade (==).\n",
    "\n",
    "Vamos adicionar restrições de igualdade para a oferta e para a demanda. Assim, não encontraremos uma solução viável! Não temos capacidade para isso."
   ]
  },
  {
   "cell_type": "code",
   "execution_count": null,
   "metadata": {},
   "outputs": [],
   "source": [
    "modelo = pyo.ConcreteModel() # Criando uma instância do modelo\n",
    "\n",
    "# Criando dois índices para serem usados no pyomo\n",
    "I = modelo.I = pyo.RangeSet(len(ofertas)) # Índice para as fábricas\n",
    "J = modelo.J = pyo.RangeSet(len(demandas)) # Índice para os centros de distribuição\n",
    "\n",
    "# VARIÁVEIS DE DECISÃO\n",
    "x = modelo.x = pyo.Var(I, J, within= pyo.NonNegativeReals)\n",
    "\n",
    "# Custos de transporte da fábrica i para o centro de dsitribuição j\n",
    "c = modelo.c = pyo.Param(I, J, initialize = lambda modelo, i, j: custos[i-1, j-1])\n",
    "\n",
    "# Capacidade de cada fábrica\n",
    "a = modelo.a = pyo.Param (I, initialize = lambda modelo, i: ofertas[i-1])\n",
    "\n",
    "# Demanda de cada centro de distribuição\n",
    "b = modelo.b = pyo.Param (J, initialize = lambda modelo, j: demandas[j-1])\n",
    "\n",
    "# FUNÇÃO OBJETIVO\n",
    "z = modelo.z = pyo.Objective(rule= lambda modelo: sum(x[i,j] * c[i,j] for i in I for j in J), sense= pyo.minimize)\n",
    "\n",
    "# RESTRIÇÕES\n",
    "# R1: O total de remessas despachada por cada fábrica não pode ser maior que a sua oferta.\n",
    "modelo.R1 = pyo.Constraint(I, rule= lambda modelo, i: sum(x[i, j] for j in J) == a[i])\n",
    "\n",
    "# R2: Cada centro de distribuição deve ter a sua demanda atendida\n",
    "modelo.R2 = pyo.Constraint(J, rule= lambda modelo, j: sum(x[i, j] for i in I) == b[j])\n",
    "\n",
    "# RESOLUÇÃO DO MODELO\n",
    "gurobi = pyo.SolverFactory('gurobi') # Construindo o solver gurobi\n",
    "resultado = gurobi.solve(modelo) # Armazenando o resultado"
   ]
  },
  {
   "cell_type": "code",
   "execution_count": null,
   "metadata": {},
   "outputs": [],
   "source": [
    "pyo.value(z)"
   ]
  },
  {
   "cell_type": "code",
   "execution_count": null,
   "metadata": {},
   "outputs": [],
   "source": [
    "for k in x.keys(): print (f\"x_{k} = {pyo.value(x[k])}\")"
   ]
  },
  {
   "cell_type": "markdown",
   "metadata": {},
   "source": [
    "### Incluindo uma Demanda Fantasma"
   ]
  },
  {
   "cell_type": "code",
   "execution_count": null,
   "metadata": {},
   "outputs": [],
   "source": [
    "origens = ['mes_1', 'mes_2', 'mes_3','mes_4']      # Nome das fábricas.\n",
    "destinos = ['mes_1', 'mes_2', 'mes_3','mes_4', 'fantasma'] # Nome dos centros de distribuição.\n",
    "\n",
    "custos_dataframe = pd.DataFrame ([ [1080, 1095, 1110, 1125, 0], \n",
    "                                    [9999999, 1110, 1125, 1140, 0],\n",
    "                                    [9999999, 9999999, 1100, 1115, 0],\n",
    "                                    [9999999, 9999999, 9999999, 1130, 0]], index = origens, columns= destinos)\n",
    "\n",
    "custos_dataframe"
   ]
  },
  {
   "cell_type": "code",
   "execution_count": null,
   "metadata": {},
   "outputs": [],
   "source": [
    "ofertas = [25, 35, 30, 10]\n",
    "demandas = [10, 15, 25, 20, 30]\n",
    "custos = np.array(custos_dataframe) # Passando os custos para uma matriz do numpy"
   ]
  },
  {
   "cell_type": "code",
   "execution_count": null,
   "metadata": {},
   "outputs": [],
   "source": [
    "modelo = pyo.ConcreteModel() # Criando uma instância do modelo\n",
    "\n",
    "# Criando dois índices para serem usados no pyomo\n",
    "I = modelo.I = pyo.RangeSet(len(ofertas)) # Índice para as fábricas\n",
    "J = modelo.J = pyo.RangeSet(len(demandas)) # Índice para os centros de distribuição\n",
    "\n",
    "# VARIÁVEIS DE DECISÃO\n",
    "x = modelo.x = pyo.Var(I, J, within= pyo.NonNegativeReals)\n",
    "\n",
    "# Custos de transporte da fábrica i para o centro de dsitribuição j\n",
    "c = modelo.c = pyo.Param(I, J, initialize = lambda modelo, i, j: custos[i-1, j-1])\n",
    "\n",
    "# Capacidade de cada fábrica\n",
    "a = modelo.a = pyo.Param (I, initialize = lambda modelo, i: ofertas[i-1])\n",
    "\n",
    "# Demanda de cada centro de distribuição\n",
    "b = modelo.b = pyo.Param (J, initialize = lambda modelo, j: demandas[j-1])\n",
    "\n",
    "# FUNÇÃO OBJETIVO\n",
    "z = modelo.z = pyo.Objective(rule= lambda modelo: sum(x[i,j] * c[i,j] for i in I for j in J), sense= pyo.minimize)\n",
    "\n",
    "# RESTRIÇÕES\n",
    "# R1: O total de remessas despachada por cada fábrica não pode ser maior que a sua oferta.\n",
    "modelo.R1 = pyo.Constraint(I, rule= lambda modelo, i: sum(x[i, j] for j in J) == a[i])\n",
    "\n",
    "# R2: Cada centro de distribuição deve ter a sua demanda atendida\n",
    "modelo.R2 = pyo.Constraint(J, rule= lambda modelo, j: sum(x[i, j] for i in I) == b[j])\n",
    "\n",
    "# RESOLUÇÃO DO MODELO\n",
    "gurobi = pyo.SolverFactory('gurobi') # Construindo o solver gurobi\n",
    "resultado = gurobi.solve(modelo) # Armazenando o resultado"
   ]
  },
  {
   "cell_type": "code",
   "execution_count": null,
   "metadata": {},
   "outputs": [],
   "source": [
    "print(f\"z= {pyo.value(z)}\")\n",
    "for k in x.keys(): print (f\"x_{k} = {pyo.value(x[k])}\")"
   ]
  }
 ],
 "metadata": {
  "kernelspec": {
   "display_name": "Python 3.9.7 ('base')",
   "language": "python",
   "name": "python3"
  },
  "language_info": {
   "codemirror_mode": {
    "name": "ipython",
    "version": 3
   },
   "file_extension": ".py",
   "mimetype": "text/x-python",
   "name": "python",
   "nbconvert_exporter": "python",
   "pygments_lexer": "ipython3",
   "version": "3.9.7"
  },
  "orig_nbformat": 4,
  "vscode": {
   "interpreter": {
    "hash": "e4cce46d6be9934fbd27f9ca0432556941ea5bdf741d4f4d64c6cd7f8dfa8fba"
   }
  }
 },
 "nbformat": 4,
 "nbformat_minor": 2
}
