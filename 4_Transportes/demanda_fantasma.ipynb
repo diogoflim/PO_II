{
 "cells": [
  {
   "cell_type": "markdown",
   "metadata": {},
   "source": [
    "[![Open In Colab](https://colab.research.google.com/assets/colab-badge.svg)](https://colab.research.google.com/github/diogoflim/PO_II/blob/main/4_Transportes/demanda_fantasma.ipynb)"
   ]
  },
  {
   "cell_type": "markdown",
   "metadata": {},
   "source": [
    "## **Pesquisa Operacional II**\n",
    "\n",
    "**Prof. Diogo Ferreira de Lima Silva (TEP-UFF)**"
   ]
  },
  {
   "cell_type": "markdown",
   "metadata": {},
   "source": [
    "## Modelando um Problema dos Transportes com capacidade ociosa"
   ]
  },
  {
   "cell_type": "code",
   "execution_count": null,
   "metadata": {},
   "outputs": [],
   "source": [
    "#Execute esse bloco caso esteja executando no Google Colab\n",
    "!pip install -q pyomo\n",
    "!pip install -i https://pypi.gurobi.com gurobipy"
   ]
  },
  {
   "cell_type": "code",
   "execution_count": 9,
   "metadata": {},
   "outputs": [],
   "source": [
    "import pandas as pd\n",
    "import numpy as np\n",
    "import pyomo.environ as pyo"
   ]
  },
  {
   "cell_type": "code",
   "execution_count": 10,
   "metadata": {},
   "outputs": [
    {
     "data": {
      "text/html": [
       "<div>\n",
       "<style scoped>\n",
       "    .dataframe tbody tr th:only-of-type {\n",
       "        vertical-align: middle;\n",
       "    }\n",
       "\n",
       "    .dataframe tbody tr th {\n",
       "        vertical-align: top;\n",
       "    }\n",
       "\n",
       "    .dataframe thead th {\n",
       "        text-align: right;\n",
       "    }\n",
       "</style>\n",
       "<table border=\"1\" class=\"dataframe\">\n",
       "  <thead>\n",
       "    <tr style=\"text-align: right;\">\n",
       "      <th></th>\n",
       "      <th>mes_1</th>\n",
       "      <th>mes_2</th>\n",
       "      <th>mes_3</th>\n",
       "      <th>mes_4</th>\n",
       "    </tr>\n",
       "  </thead>\n",
       "  <tbody>\n",
       "    <tr>\n",
       "      <th>mes_1</th>\n",
       "      <td>1080</td>\n",
       "      <td>1095</td>\n",
       "      <td>1110</td>\n",
       "      <td>1125</td>\n",
       "    </tr>\n",
       "    <tr>\n",
       "      <th>mes_2</th>\n",
       "      <td>9999999</td>\n",
       "      <td>1110</td>\n",
       "      <td>1125</td>\n",
       "      <td>1140</td>\n",
       "    </tr>\n",
       "    <tr>\n",
       "      <th>mes_3</th>\n",
       "      <td>9999999</td>\n",
       "      <td>9999999</td>\n",
       "      <td>1100</td>\n",
       "      <td>1115</td>\n",
       "    </tr>\n",
       "    <tr>\n",
       "      <th>mes_4</th>\n",
       "      <td>9999999</td>\n",
       "      <td>9999999</td>\n",
       "      <td>9999999</td>\n",
       "      <td>1130</td>\n",
       "    </tr>\n",
       "  </tbody>\n",
       "</table>\n",
       "</div>"
      ],
      "text/plain": [
       "         mes_1    mes_2    mes_3  mes_4\n",
       "mes_1     1080     1095     1110   1125\n",
       "mes_2  9999999     1110     1125   1140\n",
       "mes_3  9999999  9999999     1100   1115\n",
       "mes_4  9999999  9999999  9999999   1130"
      ]
     },
     "execution_count": 10,
     "metadata": {},
     "output_type": "execute_result"
    }
   ],
   "source": [
    "origens = ['mes_1', 'mes_2', 'mes_3','mes_4']      # Nome das fábricas.\n",
    "destinos = ['mes_1', 'mes_2', 'mes_3','mes_4'] # Nome dos centros de distribuição.\n",
    "\n",
    "custos_dataframe = pd.DataFrame ([ [1080, 1095, 1110, 1125], # F1\n",
    "                                    [9999999, 1110, 1125, 1140], # F2\n",
    "                                    [9999999, 9999999, 1100, 1115],\n",
    "                                    [9999999, 9999999, 9999999, 1130]], index = origens, columns= destinos)\n",
    "\n",
    "custos_dataframe"
   ]
  },
  {
   "cell_type": "code",
   "execution_count": 11,
   "metadata": {},
   "outputs": [],
   "source": [
    "ofertas = [25, 35, 30, 10]\n",
    "demandas = [10, 15, 25, 20]\n",
    "custos = np.array(custos_dataframe) # Passando os custos para uma matriz do numpy"
   ]
  },
  {
   "cell_type": "code",
   "execution_count": 12,
   "metadata": {},
   "outputs": [
    {
     "name": "stdout",
     "output_type": "stream",
     "text": [
      "ERROR: Solver (gurobi) returned non-zero return code (1)\n",
      "ERROR: Solver log: Set parameter Username Traceback (most recent call last):\n",
      "      File \"<stdin>\", line 5, in <module> File \"c:\\Anaconda3\\lib\\site-\n",
      "      packages\\pyomo\\solvers\\plugins\\solvers\\GUROBI_RUN.py\", line 61, in\n",
      "      gurobi_run\n",
      "        model = read(model_file)\n",
      "      File \"src\\gurobipy\\gurobi.pxi\", line 3575, in gurobipy.read File\n",
      "      \"src\\gurobipy\\gurobi.pxi\", line 84, in gurobipy.gurobi.read File\n",
      "      \"src\\gurobipy\\gurobi.pxi\", line 32, in gurobipy.gurobi._getdefaultenv\n",
      "      File \"src\\gurobipy\\env.pxi\", line 62, in gurobipy.Env.__init__\n",
      "    gurobipy.GurobiError: License expired 2022-07-09\n"
     ]
    },
    {
     "ename": "ApplicationError",
     "evalue": "Solver (gurobi) did not exit normally",
     "output_type": "error",
     "traceback": [
      "\u001b[1;31m---------------------------------------------------------------------------\u001b[0m",
      "\u001b[1;31mApplicationError\u001b[0m                          Traceback (most recent call last)",
      "\u001b[1;32m~\\AppData\\Local\\Temp/ipykernel_14600/2354742259.py\u001b[0m in \u001b[0;36m<module>\u001b[1;34m\u001b[0m\n\u001b[0;32m     29\u001b[0m \u001b[1;31m# RESOLUÇÃO DO MODELO\u001b[0m\u001b[1;33m\u001b[0m\u001b[1;33m\u001b[0m\u001b[0m\n\u001b[0;32m     30\u001b[0m \u001b[0mgurobi\u001b[0m \u001b[1;33m=\u001b[0m \u001b[0mpyo\u001b[0m\u001b[1;33m.\u001b[0m\u001b[0mSolverFactory\u001b[0m\u001b[1;33m(\u001b[0m\u001b[1;34m'gurobi'\u001b[0m\u001b[1;33m)\u001b[0m \u001b[1;31m# Construindo o solver gurobi\u001b[0m\u001b[1;33m\u001b[0m\u001b[1;33m\u001b[0m\u001b[0m\n\u001b[1;32m---> 31\u001b[1;33m \u001b[0mresultado\u001b[0m \u001b[1;33m=\u001b[0m \u001b[0mgurobi\u001b[0m\u001b[1;33m.\u001b[0m\u001b[0msolve\u001b[0m\u001b[1;33m(\u001b[0m\u001b[0mmodelo\u001b[0m\u001b[1;33m)\u001b[0m \u001b[1;31m# Armazenando o resultado\u001b[0m\u001b[1;33m\u001b[0m\u001b[1;33m\u001b[0m\u001b[0m\n\u001b[0m",
      "\u001b[1;32mc:\\Anaconda3\\lib\\site-packages\\pyomo\\opt\\base\\solvers.py\u001b[0m in \u001b[0;36msolve\u001b[1;34m(self, *args, **kwds)\u001b[0m\n\u001b[0;32m    593\u001b[0m                 \u001b[1;32melif\u001b[0m \u001b[0mhasattr\u001b[0m\u001b[1;33m(\u001b[0m\u001b[0m_status\u001b[0m\u001b[1;33m,\u001b[0m \u001b[1;34m'log'\u001b[0m\u001b[1;33m)\u001b[0m \u001b[1;32mand\u001b[0m \u001b[0m_status\u001b[0m\u001b[1;33m.\u001b[0m\u001b[0mlog\u001b[0m\u001b[1;33m:\u001b[0m\u001b[1;33m\u001b[0m\u001b[1;33m\u001b[0m\u001b[0m\n\u001b[0;32m    594\u001b[0m                     \u001b[0mlogger\u001b[0m\u001b[1;33m.\u001b[0m\u001b[0merror\u001b[0m\u001b[1;33m(\u001b[0m\u001b[1;34m\"Solver log:\\n\"\u001b[0m \u001b[1;33m+\u001b[0m \u001b[0mstr\u001b[0m\u001b[1;33m(\u001b[0m\u001b[0m_status\u001b[0m\u001b[1;33m.\u001b[0m\u001b[0mlog\u001b[0m\u001b[1;33m)\u001b[0m\u001b[1;33m)\u001b[0m\u001b[1;33m\u001b[0m\u001b[1;33m\u001b[0m\u001b[0m\n\u001b[1;32m--> 595\u001b[1;33m                 raise ApplicationError(\n\u001b[0m\u001b[0;32m    596\u001b[0m                     \"Solver (%s) did not exit normally\" % self.name)\n\u001b[0;32m    597\u001b[0m             \u001b[0msolve_completion_time\u001b[0m \u001b[1;33m=\u001b[0m \u001b[0mtime\u001b[0m\u001b[1;33m.\u001b[0m\u001b[0mtime\u001b[0m\u001b[1;33m(\u001b[0m\u001b[1;33m)\u001b[0m\u001b[1;33m\u001b[0m\u001b[1;33m\u001b[0m\u001b[0m\n",
      "\u001b[1;31mApplicationError\u001b[0m: Solver (gurobi) did not exit normally"
     ]
    }
   ],
   "source": [
    "modelo = pyo.ConcreteModel() # Criando uma instância do modelo\n",
    "\n",
    "# Criando dois índices para serem usados no pyomo\n",
    "I = modelo.I = pyo.RangeSet(len(ofertas)) # Índice para as fábricas\n",
    "J = modelo.J = pyo.RangeSet(len(demandas)) # Índice para os centros de distribuição\n",
    "\n",
    "# VARIÁVEIS DE DECISÃO\n",
    "x = modelo.x = pyo.Var(I, J, within= pyo.NonNegativeReals)\n",
    "\n",
    "# Custos de transporte da fábrica i para o centro de dsitribuição j\n",
    "c = modelo.c = pyo.Param(I, J, initialize = lambda modelo, i, j: custos[i-1, j-1])\n",
    "\n",
    "# Capacidade de cada fábrica\n",
    "a = modelo.a = pyo.Param (I, initialize = lambda modelo, i: ofertas[i-1])\n",
    "\n",
    "# Demanda de cada centro de distribuição\n",
    "b = modelo.b = pyo.Param (J, initialize = lambda modelo, j: demandas[j-1])\n",
    "\n",
    "# FUNÇÃO OBJETIVO\n",
    "z = modelo.z = pyo.Objective(rule= lambda modelo: sum(x[i,j] * c[i,j] for i in I for j in J), sense= pyo.minimize)\n",
    "\n",
    "# RESTRIÇÕES\n",
    "# R1: O total de remessas despachada por cada fábrica não pode ser maior que a sua oferta.\n",
    "modelo.R1 = pyo.Constraint(I, rule= lambda modelo, i: sum(x[i, j] for j in J) <= a[i])\n",
    "\n",
    "# R2: Cada centro de distribuição deve ter a sua demanda atendida\n",
    "modelo.R2 = pyo.Constraint(J, rule= lambda modelo, j: sum(x[i, j] for i in I) >= b[j])\n",
    "\n",
    "# RESOLUÇÃO DO MODELO\n",
    "gurobi = pyo.SolverFactory('gurobi') # Construindo o solver gurobi\n",
    "resultado = gurobi.solve(modelo) # Armazenando o resultado"
   ]
  },
  {
   "cell_type": "code",
   "execution_count": null,
   "metadata": {},
   "outputs": [],
   "source": []
  }
 ],
 "metadata": {
  "kernelspec": {
   "display_name": "Python 3.9.7 ('base')",
   "language": "python",
   "name": "python3"
  },
  "language_info": {
   "codemirror_mode": {
    "name": "ipython",
    "version": 3
   },
   "file_extension": ".py",
   "mimetype": "text/x-python",
   "name": "python",
   "nbconvert_exporter": "python",
   "pygments_lexer": "ipython3",
   "version": "3.9.7"
  },
  "orig_nbformat": 4,
  "vscode": {
   "interpreter": {
    "hash": "e4cce46d6be9934fbd27f9ca0432556941ea5bdf741d4f4d64c6cd7f8dfa8fba"
   }
  }
 },
 "nbformat": 4,
 "nbformat_minor": 2
}
