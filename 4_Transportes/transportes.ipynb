{
 "cells": [
  {
   "cell_type": "markdown",
   "metadata": {},
   "source": [
    "[![Open In Colab](https://colab.research.google.com/assets/colab-badge.svg)](https://colab.research.google.com/github/diogoflim/PO_II/blob/main/4_Transportes/transportes.ipynb)"
   ]
  },
  {
   "cell_type": "markdown",
   "metadata": {},
   "source": [
    "## **Pesquisa Operacional II**\n",
    "\n",
    "**Prof. Diogo Ferreira de Lima Silva (TEP-UFF)**\n",
    "\n",
    "Autores do notebook: \n",
    "- Rodrigo Celso de Lima Porto\n",
    "- Diogo Ferreira de Lima Silva"
   ]
  },
  {
   "cell_type": "markdown",
   "metadata": {
    "id": "HDm5fsKVifYJ"
   },
   "source": [
    "# PROBLEMA DE TRANSPORTE\n",
    "\n",
    "O problema de transporte engloba uma decisão de minimização de custos relativos a envios de produtos de um conjunto de $m$ origens para um conjunto de $n$ destinos. \n",
    "\n",
    "- Cada origem $i$ pode fornecer, no máximo $a_i$ unidades. Por sua vez, cada destino $j$ demanda $b_j$ unidades do produto.\n",
    "\n",
    "O envio de unidades produzidas na fábrica $i$ para o cliente $j$ tem um custo unitário de $c_{ij}$.\n",
    "\n",
    "O objetivo é minimizar o custo total do transporte. O modelo abstrato de programação linear para este tipo de problema é dado como:\n",
    "\n",
    "$$\n",
    "\\text{Min } z = \\sum_{i=1}^{m} \\sum_{j=1}^{n} c_{ij}x_{ij}\\\\\n",
    "$$\n",
    "$$\n",
    "\\begin{equation}\n",
    "  \\begin{array}{rlll}\n",
    "    \\text{Sujeito a: } & & \\\\\n",
    "    & \\sum_{j=1}^{n} x_{ij} \\le a_{i} & , \\forall \\ i=1,...,m & (1) \\\\\n",
    "    & \\sum_{i=1}^{m} x_{ij} \\ge b_{j} & , \\forall \\ j=1,...,n & (2) \\\\\n",
    "    & x \\ge 0 & & (3)\n",
    "  \\end{array}\n",
    "\\end{equation}\n",
    "$$\n",
    "\n",
    "\n",
    "Onde:\n",
    "\n",
    "- Cada $x_{ij}$ é uma variável de decisão, representando a quantidade de produtos enviadas do ofertante $i$ para o cliente $j$ \n",
    "- $c_{ij}$ contém o custo de transporte da unidade da fábrica $i$ para o cliente $j$ \n",
    "- $a_i$ contém a capacidade máxima de cada fábrica $i$;\n",
    "- $b_j$ contém a demanda de cada cliente $j$;\n",
    "- O conjunto de restrições $(1)$ garante que a quantidade de produtos despachadas por cada ofertante não seja maior do que sua respectiva oferta;\n",
    "- O conjunto $(2)$ garante que a quantidade de produtos que cada cliente receber deva atender a demanda de cada um deles;\n",
    "- A restrição $(3)$ garante a não negatividade das variáveis.\n"
   ]
  },
  {
   "cell_type": "markdown",
   "metadata": {},
   "source": [
    "# Vamos modelar uma instância Problema dos Transportes"
   ]
  },
  {
   "cell_type": "markdown",
   "metadata": {
    "id": "R-nyUgss8uH8"
   },
   "source": [
    "Uma empresa possui três fábricas que produzem carrinhos de bebê que devem ser remetidos para quatro centros de distribuição. As Fábricas F1, F2 e F3 produzem, respectivamente, 12, 17 e 11 remessas por mês. Cada centro de distribuição CD precisa receber dez remessas por mês. Com base na tabela de custos abaixo, que mostra o custo unitário de transporte das Fábricas à cada CD, quanto deve ser remetido de cada fábrica para cada um dos centros de distribuição para minimizar o custo total de transporte?\n",
    "\n",
    "<center>\n",
    "\n",
    "|Fábrica|$CD1$|$CD2$|$CD3$|$CD4$|\n",
    "|:-----:|:---:|:---:|:---:|:---:|\n",
    "|$F1$   |40100|65100|20100|35100|\n",
    "|$F2$   |55100|70100|30100|50100|\n",
    "|$F3$   |30100|60100|40100|45100|\n",
    "\n",
    "</center>\n"
   ]
  },
  {
   "cell_type": "markdown",
   "metadata": {},
   "source": [
    "## Formulação do Problema\n",
    "\n",
    "A formulação deste modelo seria uma instância do problema de transporte, podendo ser dado como:\n",
    "\n",
    "$$\n",
    "\\text{Min } z = 40100x_{11} + 65100x_{12} + 20100x_{13} + 35100x_{14} + 55100x_{21} + 70100x_{22} + 30100x_{23} + 50100x_{24} + 30100x_{31} + 60100x_{32} + 40100x_{33} + 45100x_{34}\\\\\n",
    "$$\n",
    "$$\n",
    "\\begin{equation}\n",
    "  \\begin{array}{rll}\n",
    "    \\text{Sujeito a: } & & \\\\\n",
    "    & x_{11} + x_{12} + x_{13} + x_{14} \\le 12 & \\text{(Fábrica 1)} \\\\\n",
    "    & x_{21} + x_{22} + x_{23} + x_{24} \\le 17 & \\text{(Fábrica 2)} \\\\\n",
    "    & x_{31} + x_{32} + x_{33} + x_{34} \\le 11 & \\text{(Fábrica 3)} \\\\\n",
    "    & x_{11} + x_{21} + x_{31} \\ge 10 & \\text{(Centro de Distribuição 1)} \\\\\n",
    "    & x_{12} + x_{22} + x_{32} \\ge 10 & \\text{(Centro de Distribuição 2)} \\\\\n",
    "    & x_{13} + x_{23} + x_{33} \\ge 10 & \\text{(Centro de Distribuição 3)} \\\\\n",
    "    & x_{14} + x_{24} + x_{34} \\ge 10 & \\text{(Centro de Distribuição 4)} \\\\\n",
    "    & x_{ij} \\ge 0 \\\\\n",
    "  \\end{array}\n",
    "\\end{equation}\n",
    "$$\n",
    "Onde $x_{ij}$ é a quantidade de remessas enviadas da fábrica $i$ para o centro de distribuição $j$."
   ]
  },
  {
   "cell_type": "markdown",
   "metadata": {
    "id": "dZo1u4QPZJv0"
   },
   "source": [
    "---\n",
    "---\n",
    "# MODELANDO COM PYOMO\n",
    "---\n",
    "---\n",
    "\n",
    "Recomendações:\n",
    "* Site [Pyomo.org](https://www.pyomo.org)\n",
    "* Site [ND Pyomo Cookbook](https://jckantor.github.io/ND-Pyomo-Cookbook/)\n",
    "* Vídeo [Noções básicas de Pyomo - Parte 1](https://www.youtube.com/watch?v=YDqalQH2b9w)\n",
    "* Vídeo [Noções básicas de Pyomo - Parte 2](https://www.youtube.com/watch?v=nao-zTTUQPQ)\n",
    "\n",
    "---\n",
    "\n",
    "<p align=justify>\n",
    "&emsp; Caso não tenha instalado o Pyomo e o solver Gurobi na sua máquina, realize os seguintes passos:\n",
    "\n",
    "<ol align=justify>\n",
    "<li>Baixe e instale o <a href='https://www.anaconda.com/'>Anaconda</a></li>\n",
    "<li>Clique no ícone do Windows e pesquise por \"Anaconda Prompt\"</li>\n",
    "<li>Escreva no prompt <code>conda install -c conda-forge pyomo</code></li>\n",
    "<li>Aguarde o término da instalação, e quando o prompt te perguntar <code>Proceed ([y]/n)?</code>, tecle \"y\"</li>\n",
    "<li>Agora escreva no prompt <code>conda install -c gurobi gurobi</code></li>\n",
    "<li>Aguarde o término da instalação, e quando o prompt te perguntar <code>Proceed ([y]/n)?</code>, tecle \"y\"</li>\n",
    "<li>Pronto!</li>\n",
    "</ol>\n",
    "\n",
    "&emsp; Para maiores detalhes, assista esse <a href='https://www.youtube.com/watch?v=lzMpvlKNQ-Y&t=294s'>vídeo</a>.\n",
    "</p>\n",
    "\n",
    "---\n",
    "\n",
    "<p align=justify>\n",
    "&emsp; Caso esteja no Google Colab, execute o bloco de códigos a seguir:\n",
    "</p>"
   ]
  },
  {
   "cell_type": "code",
   "execution_count": null,
   "metadata": {
    "id": "MWGu1HG6y9Ci"
   },
   "outputs": [],
   "source": [
    "#Execute esse bloco caso esteja executando no Google Colab\n",
    "!pip install -q pyomo\n",
    "!pip install -i https://pypi.gurobi.com gurobipy"
   ]
  },
  {
   "cell_type": "markdown",
   "metadata": {
    "id": "Yml8ZlnPvxMF"
   },
   "source": [
    "---\n",
    "# Resolução\n",
    "---\n",
    "\n",
    "<p align=justify> &emsp; Vamos imaginar que os custos de transporte das fábricas até os clientes estejam organizados em uma matriz e as ofertas de remessa de cada fábrica e demandas de cada centro de distribuição estejam armazenados em duas listas distintas, como mostrado a seguir:</p>"
   ]
  },
  {
   "cell_type": "code",
   "execution_count": null,
   "metadata": {},
   "outputs": [],
   "source": [
    "import pandas as pd"
   ]
  },
  {
   "cell_type": "code",
   "execution_count": null,
   "metadata": {},
   "outputs": [],
   "source": [
    "fabricas = ['F1', 'F2', 'F3']      # Nome das fábricas.\n",
    "cds      = ['CD_1', 'CD_2', 'CD_3', 'CD_4'] # Nome dos centros de distribuição.\n",
    "\n",
    "custos_dataframe = pd.DataFrame ([ [40100, 65100, 20100, 35100], # F1\n",
    "                                    [55100, 70100, 30100, 50100], # F2\n",
    "                                    [30100, 60100, 40100, 45100]], index = fabricas, columns= cds)\n",
    "\n",
    "custos_dataframe\n"
   ]
  },
  {
   "cell_type": "markdown",
   "metadata": {},
   "source": [
    "No Python, poderíamos ter lido esses dados diretamente de um arquivo excel.\n",
    "\n",
    "Usaríamos a função: pd.read_excel(). Mais detalhes em: https://pandas.pydata.org/docs/reference/api/pandas.read_excel.html"
   ]
  },
  {
   "cell_type": "code",
   "execution_count": null,
   "metadata": {
    "id": "CFZrgzGqzukb"
   },
   "outputs": [],
   "source": [
    "#Vamos armazenar nossas ofertas e demandas nas listas abaixo:\n",
    "ofertas = [12, 17, 11]\n",
    "demandas = [10, 10, 10, 10]"
   ]
  },
  {
   "cell_type": "code",
   "execution_count": null,
   "metadata": {},
   "outputs": [],
   "source": [
    "import numpy as np\n",
    "\n",
    "# Passando os custos para uma matriz do numpy\n",
    "custos = np.array(custos_dataframe)\n",
    "\n",
    "custos"
   ]
  },
  {
   "cell_type": "markdown",
   "metadata": {
    "id": "AYk2Tdgh9MHT"
   },
   "source": [
    "<p align=justify> &emsp; Para a resolução do problema instanciado com o Pyomo, é possível criar uma função que importe a biblioteca do Pyomo, e resolva o problema de transporte usando como parâmetros os dados fornecidos nos argumentos desta função, cujo código é mostrado como se segue:</p>"
   ]
  },
  {
   "cell_type": "code",
   "execution_count": null,
   "metadata": {
    "id": "B-LNneZrKmOa"
   },
   "outputs": [],
   "source": [
    "def problema_transporte(ofertas, demandas, custos):\n",
    "\n",
    "  import pyomo.environ as pyo # Importando o Pyomo\n",
    "\n",
    "  modelo = pyo.ConcreteModel() # Criando uma instância do modelo\n",
    "  \n",
    "  # Criando dois índices para serem usados no pyomo\n",
    "  modelo.I = pyo.RangeSet(len(ofertas)) # Índice para as fábricas\n",
    "  modelo.J = pyo.RangeSet(len(demandas)) # Índice para os centros de distribuição\n",
    "  I = modelo.I\n",
    "  J = modelo.J\n",
    "  \n",
    "  # VARIÁVEIS DE DECISÃO\n",
    "  # xij representa a quantidade de remessas enviada da fábrica i para o CD j\n",
    "  modelo.x = pyo.Var(I, J, within= pyo.NonNegativeReals)\n",
    "  x = modelo.x\n",
    "\n",
    "  \n",
    "  # PASSANDO OS PARÂMETROS DO PROBLEMA\n",
    "  \n",
    "  # Custos de transporte da fábrica i para o centro de dsitribuição j\n",
    "  modelo.c = pyo.Param(I, J, initialize = lambda modelo, i, j: custos[i-1, j-1])\n",
    "\n",
    "  c = modelo.c\n",
    "\n",
    "  # Capacidade de cada fábrica\n",
    "  modelo.a = pyo.Param (I, initialize = lambda modelo, i: ofertas[i-1])\n",
    "  a = modelo.a\n",
    "  \n",
    "  # Demanda de cada centro de distribuição\n",
    "  modelo.b = pyo.Param (J, initialize = lambda modelo, j: demandas[j-1])\n",
    "  b = modelo.b\n",
    "\n",
    "  # FUNÇÃO OBJETIVO\n",
    "  modelo.obj = pyo.Objective(rule= lambda modelo: sum(x[i,j] * c[i,j] for i in I for j in J),sense= pyo.minimize)\n",
    "  obj = modelo.obj\n",
    "\n",
    "  # RESTRIÇÕES\n",
    "\n",
    "  # R1: O total de remessas despachada por cada fábrica não pode ser maior que a sua oferta.\n",
    "  modelo.R1 = pyo.Constraint(I, rule= lambda modelo, i: sum(x[i, j] for j in J) <= a[i])\n",
    "  \n",
    "  # R2: Cada centro de distribuição deve ter a sua demanda atendida\n",
    "  modelo.R2 = pyo.Constraint(J, rule= lambda modelo, j: sum(x[i, j] for i in I) >= b[j])\n",
    "  \n",
    "  # RESOLUÇÃO DO MODELO\n",
    "  gurobi = pyo.SolverFactory('gurobi') # Construindo o solver gurobi\n",
    "  resultado = gurobi.solve(modelo) # Armazenando o resultado\n",
    "  \n",
    "  # Se der certo, imprima os resultados\n",
    "  if str(resultado.Solver.status) == 'ok':\n",
    "    \n",
    "    # Imprimindo a função objetivo\n",
    "    registro = f\"FUNÇÃO OBJETIVO\\nCusto Mínimo = R$ {pyo.value(obj):.2f}\\n\"\n",
    "\n",
    "    # Imprimindo as variáveis de decisão\n",
    "    registro += f'\\nVARIÁVEIS DE DECISÃO\\n'\n",
    "    chaves = list(x.keys())\n",
    "    for c in chaves:\n",
    "      valor = pyo.value(x[c])\n",
    "      if valor != 0:\n",
    "        registro += f\"x{c[0]}{c[1]} = {valor:.2f}\\n\"\n",
    "  \n",
    "  # Se não achou ótimo:\n",
    "  else:\n",
    "    registro = 'Nenhuma solução válida foi encontrada.'\n",
    "\n",
    "  return registro"
   ]
  },
  {
   "cell_type": "markdown",
   "metadata": {
    "id": "Y0qKJeQOVA98"
   },
   "source": [
    "<p align=justify> &emsp; Cujo resultado encontrado será como dado a seguir: </p>"
   ]
  },
  {
   "cell_type": "code",
   "execution_count": null,
   "metadata": {
    "colab": {
     "base_uri": "https://localhost:8080/"
    },
    "executionInfo": {
     "elapsed": 646,
     "status": "ok",
     "timestamp": 1660919310358,
     "user": {
      "displayName": "Rodrigo Celso de Lima Porto",
      "userId": "00317348114914252656"
     },
     "user_tz": 180
    },
    "id": "DNrspE1DVIgI",
    "outputId": "b5bdeebe-07bb-4136-c12f-2c4a178db4b0"
   },
   "outputs": [],
   "source": [
    "registro = problema_transporte(ofertas, demandas, custos)\n",
    "print(registro)"
   ]
  }
 ],
 "metadata": {
  "kernelspec": {
   "display_name": "Python 3.9.7 ('base')",
   "language": "python",
   "name": "python3"
  },
  "language_info": {
   "codemirror_mode": {
    "name": "ipython",
    "version": 3
   },
   "file_extension": ".py",
   "mimetype": "text/x-python",
   "name": "python",
   "nbconvert_exporter": "python",
   "pygments_lexer": "ipython3",
   "version": "3.9.7"
  },
  "orig_nbformat": 4,
  "vscode": {
   "interpreter": {
    "hash": "e4cce46d6be9934fbd27f9ca0432556941ea5bdf741d4f4d64c6cd7f8dfa8fba"
   }
  }
 },
 "nbformat": 4,
 "nbformat_minor": 2
}
