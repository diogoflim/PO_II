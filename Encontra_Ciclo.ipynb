{
 "cells": [
  {
   "cell_type": "markdown",
   "id": "9f1113ab-9157-4c05-85fb-967541640ca9",
   "metadata": {},
   "source": [
    "# Encontrando um ciclo em um grafo"
   ]
  },
  {
   "cell_type": "markdown",
   "id": "ab4740f7-daf3-40d5-a061-f0eb11b86aa0",
   "metadata": {},
   "source": [
    "Primeiro, vamos importar a biblioteca collections"
   ]
  },
  {
   "cell_type": "code",
   "execution_count": 224,
   "id": "32c8891e-7da2-4e24-ae8a-1ea9b9ed7b1d",
   "metadata": {},
   "outputs": [],
   "source": [
    "from collections import defaultdict"
   ]
  },
  {
   "cell_type": "code",
   "execution_count": 225,
   "id": "af88fdff-64a8-40fc-97e7-5697c38cf558",
   "metadata": {},
   "outputs": [
    {
     "data": {
      "text/plain": [
       "defaultdict(list, {})"
      ]
     },
     "execution_count": 225,
     "metadata": {},
     "output_type": "execute_result"
    }
   ],
   "source": [
    "defaultdict(list)"
   ]
  },
  {
   "cell_type": "markdown",
   "id": "fc110ecf-7236-482f-bff0-71c60698fbdb",
   "metadata": {},
   "source": [
    "## Criando uma classe"
   ]
  },
  {
   "cell_type": "markdown",
   "id": "37adf60e-080e-4651-9b97-f6e7c59a762a",
   "metadata": {},
   "source": [
    "Iniciaremos criando uma classe vazia, chamada Grafo. "
   ]
  },
  {
   "cell_type": "code",
   "execution_count": 226,
   "id": "7f88cf1e-df34-4560-904f-f16c455fcf39",
   "metadata": {},
   "outputs": [],
   "source": [
    "class Grafo ():\n",
    "    pass"
   ]
  },
  {
   "cell_type": "markdown",
   "id": "86092325-9b79-4fbc-a8bb-b447e7838576",
   "metadata": {},
   "source": [
    "No momento, a classe não possui nenhum atributo. \n",
    "\n",
    "Vejamos o que acontece se chamarmos a classe."
   ]
  },
  {
   "cell_type": "code",
   "execution_count": 227,
   "id": "48977501-652a-49b2-bcf8-ff22424591db",
   "metadata": {},
   "outputs": [
    {
     "data": {
      "text/plain": [
       "<__main__.Grafo at 0x1372e4a3ac0>"
      ]
     },
     "execution_count": 227,
     "metadata": {},
     "output_type": "execute_result"
    }
   ],
   "source": [
    "Grafo()"
   ]
  },
  {
   "cell_type": "markdown",
   "id": "481d8694-4196-400e-8b5b-39bfc2e6b226",
   "metadata": {},
   "source": [
    "Se criarmos uma instância da classe, esta também estará vazia."
   ]
  },
  {
   "cell_type": "code",
   "execution_count": 228,
   "id": "bd1e10de-4aa1-4764-8c97-e8e41caf7a51",
   "metadata": {},
   "outputs": [
    {
     "data": {
      "text/plain": [
       "<__main__.Grafo at 0x1372e4a3c70>"
      ]
     },
     "execution_count": 228,
     "metadata": {},
     "output_type": "execute_result"
    }
   ],
   "source": [
    "g_1 = Grafo()\n",
    "\n",
    "g_1"
   ]
  },
  {
   "cell_type": "markdown",
   "id": "7fcae85d-86d8-487e-a27e-88f0dcd03b6b",
   "metadata": {},
   "source": [
    "## Atributos iniciais"
   ]
  },
  {
   "cell_type": "markdown",
   "id": "2252f82a-f6b2-4940-a02c-60fc80df9f77",
   "metadata": {},
   "source": [
    "Vamos inserir dois atributos iniciais para nossa classe. \n",
    "\n",
    "Isso pode ser feito usando o construtor __init__, sendo este um método especial em python.\n",
    "\n",
    "Ao criar uma instância, os seguintes atributos:\n",
    "\n",
    "- self.grafo: caso queiramos adicionar uma aresta, incluiremos uma entrada em uma lista de adjacências.\n",
    "- self.V: recebe o número de vértices do grafo"
   ]
  },
  {
   "cell_type": "code",
   "execution_count": 135,
   "id": "4fccdb2b-7bb3-4e2d-9f74-1c8f67fc1058",
   "metadata": {},
   "outputs": [],
   "source": [
    "class Grafo():\n",
    "    def __init__(self,vertices):\n",
    "        self.grafo = defaultdict(list)\n",
    "        self.V = vertices\n"
   ]
  },
  {
   "cell_type": "code",
   "execution_count": 136,
   "id": "ea05da24-93a1-4d1d-a308-fff68ab3fac9",
   "metadata": {},
   "outputs": [
    {
     "data": {
      "text/plain": [
       "<__main__.Grafo at 0x1372e4a3dc0>"
      ]
     },
     "execution_count": 136,
     "metadata": {},
     "output_type": "execute_result"
    }
   ],
   "source": [
    "g1 = Grafo(6)\n",
    "g1"
   ]
  },
  {
   "cell_type": "code",
   "execution_count": 137,
   "id": "d278cfb2-85db-440e-8d3d-52d56babd558",
   "metadata": {},
   "outputs": [
    {
     "name": "stdout",
     "output_type": "stream",
     "text": [
      "<__main__.Grafo object at 0x000001372E4A3DC0>\n",
      "defaultdict(<class 'list'>, {})\n",
      "6\n"
     ]
    }
   ],
   "source": [
    "print (g1)\n",
    "\n",
    "print (g1.grafo)\n",
    "\n",
    "print (g1.V)"
   ]
  },
  {
   "cell_type": "markdown",
   "id": "d727920f-d0b3-4db2-b07b-5c655d3dcc47",
   "metadata": {},
   "source": [
    "## Adicionando um vértice"
   ]
  },
  {
   "cell_type": "markdown",
   "id": "4f80190e-95c0-4453-ba12-ee7e6a0f760a",
   "metadata": {},
   "source": [
    "Para adicionar uma aresta ao nosso grafo, criaremos um método para a nossa classe.\n",
    "\n",
    "Chamaremos a funcao de add_Aresta"
   ]
  },
  {
   "cell_type": "code",
   "execution_count": 138,
   "id": "05da7a6c-07f0-4b85-a849-3e6b7adc4720",
   "metadata": {},
   "outputs": [],
   "source": [
    "class Grafo():\n",
    "    def __init__(self,vertices):\n",
    "        self.grafo = defaultdict(list)\n",
    "        self.V = vertices\n",
    " \n",
    "    def addAresta(self,u,v):\n",
    "        self.grafo[u].append(v)\n",
    "        self.grafo[v].append(u)"
   ]
  },
  {
   "cell_type": "code",
   "execution_count": 139,
   "id": "749accfc-fe5d-43bb-8696-993fbf2adc21",
   "metadata": {},
   "outputs": [],
   "source": [
    "g1 = Grafo(6)\n",
    "g1.addAresta('A','B')"
   ]
  },
  {
   "cell_type": "markdown",
   "id": "2191eacd-a717-4f92-8892-601e1d381ce1",
   "metadata": {},
   "source": [
    "Agora, temos dois vértices e uma aresta em nosso grafo!\n",
    "\n",
    "- B está na lista de adjacências de A\n",
    "- A está na lista de adjacências de B"
   ]
  },
  {
   "cell_type": "code",
   "execution_count": 142,
   "id": "94aa6fd0-a7bf-4679-a7fd-bff569d8cf44",
   "metadata": {},
   "outputs": [
    {
     "name": "stdout",
     "output_type": "stream",
     "text": [
      "defaultdict(<class 'list'>, {'A': ['B'], 'B': ['A']})\n"
     ]
    }
   ],
   "source": [
    "print(g1.grafo)"
   ]
  },
  {
   "cell_type": "markdown",
   "id": "5cc39a27-9ed5-4c4b-8c6d-1bdde6f34af7",
   "metadata": {},
   "source": [
    "## Procurando um ciclo"
   ]
  },
  {
   "cell_type": "markdown",
   "id": "e13c7fe0-a861-4831-9367-728f423d156f",
   "metadata": {},
   "source": [
    "Para encotrar um ciclo em um grafo, construiremos um método que percorre o grafo realizando essa procura.\n",
    "\n",
    "Faremos uma busca em profundidade em nosso grafo analisando os vértices visitados e seus respectivos pais.\n",
    "\n"
   ]
  },
  {
   "cell_type": "code",
   "execution_count": 216,
   "id": "1758692d-9634-4130-a166-f6cdc8a054c9",
   "metadata": {},
   "outputs": [],
   "source": [
    "from collections import defaultdict\n",
    "\n",
    "class Grafo():\n",
    "    def __init__(self, n_vertices):\n",
    "        self.V = n_vertices\n",
    "        self.grafo = defaultdict(list)\n",
    "\n",
    " \n",
    "    def addAresta(self,u,v):\n",
    "        self.grafo[u].append(v)\n",
    "        self.grafo[v].append(u)\n",
    "        \n",
    "    def busca_recursiva (self, v, visitado, pai):\n",
    "        \n",
    "        visitado[v] = True #visite o primeiro vértice\n",
    "        \n",
    "        # Para cada vértice i na lista de adjacências de v_inicial, faça:\n",
    "        for i in self.grafo[v]: \n",
    "            \n",
    "            # Se o vértice adjacente i não foi visitado, faça: \n",
    "            if  visitado[i] == False:\n",
    "            \n",
    "                # Aplique a procura recursiva em i    \n",
    "                if (self.busca_recursiva (i, visitado, v)):\n",
    "                    return True\n",
    "            \n",
    "            # Caso contrário, o vértice adjacente i já foi visitado!\n",
    "            # Se o pai de i não for vértice atual, temos um ciclo!!!\n",
    "            elif  pai != i:\n",
    "                return True\n",
    "        # Se percorrermos o grafo inteiro sem retornar TRUE, retornaremos falso.\n",
    "        # Ou seja, não há ciclo!!!\n",
    "        return False\n",
    "    \n",
    "    \n",
    "    def existe_ciclo(self):\n",
    "        \n",
    "        # Ninguém foi visitado ainda\n",
    "        #visitado = [False]*(self.V)\n",
    "        visitado = dict.fromkeys(self.grafo.keys(), False)\n",
    "        \n",
    "        #Para cada vértice i faça:\n",
    "        for i in self.grafo.keys():\n",
    "        \n",
    "            # Se i ainda não foi visitado faca:\n",
    "            if visitado[i] == False:\n",
    "                \n",
    "                # Aplica busca_recursiva a partir de i\n",
    "                if (self.busca_recursiva (i, visitado, -1)) == True:\n",
    "                    return True\n",
    "        \n",
    "        # Se em nenhum momento retornou True, retorne False \n",
    "        return False\n",
    "    "
   ]
  },
  {
   "cell_type": "code",
   "execution_count": 219,
   "id": "c93d57b4-4a59-4b94-9e8d-5679c52f9e71",
   "metadata": {},
   "outputs": [
    {
     "name": "stdout",
     "output_type": "stream",
     "text": [
      "Há um ciclo!\n"
     ]
    }
   ],
   "source": [
    "# Create a graph given in the above diagram\n",
    "g1 = Grafo(5)\n",
    "g1.addAresta('B', 'A')\n",
    "g1.addAresta('B', 'C')\n",
    "g1.addAresta('C', 'A')\n",
    "g1.addAresta('A', 'D')\n",
    "g1.addAresta('D', 'E')\n",
    "\n",
    "if g1.existe_ciclo():\n",
    "    print (\"Há um ciclo!\")\n",
    "else:\n",
    "    print (\"O grafo não tem ciclo\")"
   ]
  },
  {
   "cell_type": "code",
   "execution_count": 209,
   "id": "b3eece5f-2449-458e-9b67-14c261de2cb6",
   "metadata": {},
   "outputs": [
    {
     "data": {
      "text/plain": [
       "{'B': False, 'A': False, 'C': False, 'D': False, 'E': False}"
      ]
     },
     "execution_count": 209,
     "metadata": {},
     "output_type": "execute_result"
    }
   ],
   "source": [
    "dict.fromkeys(g1.grafo.keys(), False)"
   ]
  },
  {
   "cell_type": "code",
   "execution_count": 222,
   "id": "f2785aad-8b69-4b48-85aa-d4388a5117d7",
   "metadata": {},
   "outputs": [
    {
     "name": "stdout",
     "output_type": "stream",
     "text": [
      "O grafo não tem ciclo\n"
     ]
    }
   ],
   "source": [
    "# Create a graph given in the above diagram\n",
    "g1 = Grafo(3)\n",
    "g1.addAresta('A', 'B')\n",
    "g1.addAresta('B', 'C')\n",
    "\n",
    "if g2.existe_ciclo():\n",
    "    print (\"Há um ciclo!\")\n",
    "else:\n",
    "    print (\"O grafo não tem ciclo\")"
   ]
  },
  {
   "cell_type": "code",
   "execution_count": 223,
   "id": "3c18f450-05d6-4e5a-a67b-80629af73731",
   "metadata": {},
   "outputs": [
    {
     "name": "stdout",
     "output_type": "stream",
     "text": [
      "O grafo não tem ciclo\n"
     ]
    }
   ],
   "source": [
    "if g1.existe_ciclo():\n",
    "    print (\"Há um ciclo!\")\n",
    "else:\n",
    "    print (\"O grafo não tem ciclo\")"
   ]
  },
  {
   "cell_type": "code",
   "execution_count": null,
   "id": "75b5e641-a063-40f6-b631-79c25464be78",
   "metadata": {},
   "outputs": [],
   "source": []
  }
 ],
 "metadata": {
  "kernelspec": {
   "display_name": "Python 3 (ipykernel)",
   "language": "python",
   "name": "python3"
  },
  "language_info": {
   "codemirror_mode": {
    "name": "ipython",
    "version": 3
   },
   "file_extension": ".py",
   "mimetype": "text/x-python",
   "name": "python",
   "nbconvert_exporter": "python",
   "pygments_lexer": "ipython3",
   "version": "3.9.7"
  }
 },
 "nbformat": 4,
 "nbformat_minor": 5
}
